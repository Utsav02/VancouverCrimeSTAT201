{
 "cells": [
  {
   "cell_type": "markdown",
   "metadata": {},
   "source": [
    "## Vancouver Crime Data"
   ]
  },
  {
   "cell_type": "markdown",
   "metadata": {},
   "source": [
    "### Introduction:\n",
    "This dataset was obtained from the Vancouver Police Department. This dataset contains the records of crimes committed in various neighbourhoods of Vancouver. It contains factors such as the type of crime (theft, mischief, etc.), date, time and the location where the crime was committed. Using the techniques learnt in STAT 201, we will try to analyse a relationship between the volume of crime committed at 2 different neighbourhoods (these neighbourhoods differ in terms of population density and average income of the people living there). We will compare the average amount of crime committed in these 2 areas and also the proportion of violent crimes. This will help us determine whether or not we can establish a relationship between the amount of crime and population density and income level. Initially, our hypothesis is that higher density areas where the annual income of people is low will tend to be more dangerous (more crime) than areas with low population density and higher annual incomes. Moreover, these areas have a higher proportion of violent crimes. \n"
   ]
  },
  {
   "cell_type": "markdown",
   "metadata": {},
   "source": [
    "### Preliminary Results:"
   ]
  },
  {
   "cell_type": "markdown",
   "metadata": {},
   "source": [
    "Loading Data into R"
   ]
  },
  {
   "cell_type": "code",
   "execution_count": 1,
   "metadata": {},
   "outputs": [
    {
     "name": "stderr",
     "output_type": "stream",
     "text": [
      "Installing package into 'C:/Users/Utsav Singh/Documents/R/win-library/4.1'\n",
      "(as 'lib' is unspecified)\n",
      "\n"
     ]
    },
    {
     "name": "stdout",
     "output_type": "stream",
     "text": [
      "package 'skimr' successfully unpacked and MD5 sums checked\n",
      "\n",
      "The downloaded binary packages are in\n",
      "\tC:\\Users\\Utsav Singh\\AppData\\Local\\Temp\\RtmpAZwbvy\\downloaded_packages\n"
     ]
    },
    {
     "name": "stderr",
     "output_type": "stream",
     "text": [
      "Installing package into 'C:/Users/Utsav Singh/Documents/R/win-library/4.1'\n",
      "(as 'lib' is unspecified)\n",
      "\n"
     ]
    },
    {
     "name": "stdout",
     "output_type": "stream",
     "text": [
      "package 'GGally' successfully unpacked and MD5 sums checked\n",
      "\n",
      "The downloaded binary packages are in\n",
      "\tC:\\Users\\Utsav Singh\\AppData\\Local\\Temp\\RtmpAZwbvy\\downloaded_packages\n"
     ]
    },
    {
     "name": "stderr",
     "output_type": "stream",
     "text": [
      "Installing package into 'C:/Users/Utsav Singh/Documents/R/win-library/4.1'\n",
      "(as 'lib' is unspecified)\n",
      "\n"
     ]
    },
    {
     "name": "stdout",
     "output_type": "stream",
     "text": [
      "package 'tidyverse' successfully unpacked and MD5 sums checked\n",
      "\n",
      "The downloaded binary packages are in\n",
      "\tC:\\Users\\Utsav Singh\\AppData\\Local\\Temp\\RtmpAZwbvy\\downloaded_packages\n"
     ]
    },
    {
     "name": "stderr",
     "output_type": "stream",
     "text": [
      "Installing package into 'C:/Users/Utsav Singh/Documents/R/win-library/4.1'\n",
      "(as 'lib' is unspecified)\n",
      "\n"
     ]
    },
    {
     "name": "stdout",
     "output_type": "stream",
     "text": [
      "package 'repr' successfully unpacked and MD5 sums checked\n",
      "\n",
      "The downloaded binary packages are in\n",
      "\tC:\\Users\\Utsav Singh\\AppData\\Local\\Temp\\RtmpAZwbvy\\downloaded_packages\n"
     ]
    },
    {
     "name": "stderr",
     "output_type": "stream",
     "text": [
      "Installing package into 'C:/Users/Utsav Singh/Documents/R/win-library/4.1'\n",
      "(as 'lib' is unspecified)\n",
      "\n"
     ]
    },
    {
     "name": "stdout",
     "output_type": "stream",
     "text": [
      "package 'tidymodels' successfully unpacked and MD5 sums checked\n",
      "\n",
      "The downloaded binary packages are in\n",
      "\tC:\\Users\\Utsav Singh\\AppData\\Local\\Temp\\RtmpAZwbvy\\downloaded_packages\n"
     ]
    },
    {
     "name": "stderr",
     "output_type": "stream",
     "text": [
      "Installing package into 'C:/Users/Utsav Singh/Documents/R/win-library/4.1'\n",
      "(as 'lib' is unspecified)\n",
      "\n"
     ]
    },
    {
     "name": "stdout",
     "output_type": "stream",
     "text": [
      "package 'ggplot2' successfully unpacked and MD5 sums checked\n",
      "\n",
      "The downloaded binary packages are in\n",
      "\tC:\\Users\\Utsav Singh\\AppData\\Local\\Temp\\RtmpAZwbvy\\downloaded_packages\n"
     ]
    },
    {
     "name": "stderr",
     "output_type": "stream",
     "text": [
      "Installing package into 'C:/Users/Utsav Singh/Documents/R/win-library/4.1'\n",
      "(as 'lib' is unspecified)\n",
      "\n"
     ]
    },
    {
     "name": "stdout",
     "output_type": "stream",
     "text": [
      "package 'RCurl' successfully unpacked and MD5 sums checked\n"
     ]
    },
    {
     "name": "stderr",
     "output_type": "stream",
     "text": [
      "Warning message:\n",
      "\"cannot remove prior installation of package 'RCurl'\"\n",
      "Warning message in file.copy(savedcopy, lib, recursive = TRUE):\n",
      "\"problem copying C:\\Users\\Utsav Singh\\Documents\\R\\win-library\\4.1\\00LOCK\\RCurl\\libs\\x64\\RCurl.dll to C:\\Users\\Utsav Singh\\Documents\\R\\win-library\\4.1\\RCurl\\libs\\x64\\RCurl.dll: Permission denied\"\n",
      "Warning message:\n",
      "\"restored 'RCurl'\"\n"
     ]
    },
    {
     "name": "stdout",
     "output_type": "stream",
     "text": [
      "\n",
      "The downloaded binary packages are in\n",
      "\tC:\\Users\\Utsav Singh\\AppData\\Local\\Temp\\RtmpAZwbvy\\downloaded_packages\n"
     ]
    },
    {
     "name": "stderr",
     "output_type": "stream",
     "text": [
      "-- \u001b[1mAttaching packages\u001b[22m --------------------------------------- tidyverse 1.3.1 --\n",
      "\n",
      "\u001b[32mv\u001b[39m \u001b[34mggplot2\u001b[39m 3.3.5     \u001b[32mv\u001b[39m \u001b[34mpurrr  \u001b[39m 0.3.4\n",
      "\u001b[32mv\u001b[39m \u001b[34mtibble \u001b[39m 3.1.6     \u001b[32mv\u001b[39m \u001b[34mdplyr  \u001b[39m 1.0.8\n",
      "\u001b[32mv\u001b[39m \u001b[34mtidyr  \u001b[39m 1.2.0     \u001b[32mv\u001b[39m \u001b[34mstringr\u001b[39m 1.4.0\n",
      "\u001b[32mv\u001b[39m \u001b[34mreadr  \u001b[39m 2.1.2     \u001b[32mv\u001b[39m \u001b[34mforcats\u001b[39m 0.5.1\n",
      "\n",
      "-- \u001b[1mConflicts\u001b[22m ------------------------------------------ tidyverse_conflicts() --\n",
      "\u001b[31mx\u001b[39m \u001b[34mdplyr\u001b[39m::\u001b[32mfilter()\u001b[39m masks \u001b[34mstats\u001b[39m::filter()\n",
      "\u001b[31mx\u001b[39m \u001b[34mdplyr\u001b[39m::\u001b[32mlag()\u001b[39m    masks \u001b[34mstats\u001b[39m::lag()\n",
      "\n",
      "Registered S3 method overwritten by 'GGally':\n",
      "  method from   \n",
      "  +.gg   ggplot2\n",
      "\n",
      "Registered S3 method overwritten by 'tune':\n",
      "  method                   from   \n",
      "  required_pkgs.model_spec parsnip\n",
      "\n",
      "-- \u001b[1mAttaching packages\u001b[22m -------------------------------------- tidymodels 0.1.4 --\n",
      "\n",
      "\u001b[32mv\u001b[39m \u001b[34mbroom       \u001b[39m 0.7.12     \u001b[32mv\u001b[39m \u001b[34mrsample     \u001b[39m 0.1.1 \n",
      "\u001b[32mv\u001b[39m \u001b[34mdials       \u001b[39m 0.1.0      \u001b[32mv\u001b[39m \u001b[34mtune        \u001b[39m 0.1.6 \n",
      "\u001b[32mv\u001b[39m \u001b[34minfer       \u001b[39m 1.0.0      \u001b[32mv\u001b[39m \u001b[34mworkflows   \u001b[39m 0.2.4 \n",
      "\u001b[32mv\u001b[39m \u001b[34mmodeldata   \u001b[39m 0.1.1      \u001b[32mv\u001b[39m \u001b[34mworkflowsets\u001b[39m 0.1.0 \n",
      "\u001b[32mv\u001b[39m \u001b[34mparsnip     \u001b[39m 0.1.7      \u001b[32mv\u001b[39m \u001b[34myardstick   \u001b[39m 0.0.9 \n",
      "\u001b[32mv\u001b[39m \u001b[34mrecipes     \u001b[39m 0.2.0      \n",
      "\n",
      "-- \u001b[1mConflicts\u001b[22m ----------------------------------------- tidymodels_conflicts() --\n",
      "\u001b[31mx\u001b[39m \u001b[34mscales\u001b[39m::\u001b[32mdiscard()\u001b[39m masks \u001b[34mpurrr\u001b[39m::discard()\n",
      "\u001b[31mx\u001b[39m \u001b[34mdplyr\u001b[39m::\u001b[32mfilter()\u001b[39m   masks \u001b[34mstats\u001b[39m::filter()\n",
      "\u001b[31mx\u001b[39m \u001b[34mrecipes\u001b[39m::\u001b[32mfixed()\u001b[39m  masks \u001b[34mstringr\u001b[39m::fixed()\n",
      "\u001b[31mx\u001b[39m \u001b[34mdplyr\u001b[39m::\u001b[32mlag()\u001b[39m      masks \u001b[34mstats\u001b[39m::lag()\n",
      "\u001b[31mx\u001b[39m \u001b[34myardstick\u001b[39m::\u001b[32mspec()\u001b[39m masks \u001b[34mreadr\u001b[39m::spec()\n",
      "\u001b[31mx\u001b[39m \u001b[34mrecipes\u001b[39m::\u001b[32mstep()\u001b[39m   masks \u001b[34mstats\u001b[39m::step()\n",
      "\u001b[34m*\u001b[39m Dig deeper into tidy modeling with R at \u001b[32mhttps://www.tmwr.org\u001b[39m\n",
      "\n",
      "\n",
      "Attaching package: 'RCurl'\n",
      "\n",
      "\n",
      "The following object is masked from 'package:tidyr':\n",
      "\n",
      "    complete\n",
      "\n",
      "\n"
     ]
    }
   ],
   "source": [
    "# installing required packages \n",
    "\n",
    "install.packages(\"skimr\")\n",
    "install.packages(\"GGally\")\n",
    "install.packages(\"tidyverse\")\n",
    "install.packages(\"repr\")\n",
    "install.packages(\"tidymodels\")\n",
    "install.packages(\"ggplot2\")\n",
    "install.packages(\"RCurl\")\n",
    "\n",
    "\n",
    "# installing libraries\n",
    "\n",
    "library(tidyverse)\n",
    "library(repr)\n",
    "library(GGally)\n",
    "library(tidymodels)\n",
    "library(skimr)\n",
    "library(ggplot2)\n",
    "library(RCurl)"
   ]
  },
  {
   "cell_type": "code",
   "execution_count": 2,
   "metadata": {},
   "outputs": [],
   "source": [
    "# reading data from github\n",
    "\n",
    "url <- \"https://raw.githubusercontent.com/Utsav02/VancouverCrimeSTAT201/main/crimedata_csv_AllNeighbourhoods_AllYears.csv\"\n",
    "\n",
    "vancouver_crime <- read.csv(url)\n"
   ]
  },
  {
   "cell_type": "markdown",
   "metadata": {},
   "source": [
    "Tidying data according to our use"
   ]
  },
  {
   "cell_type": "code",
   "execution_count": 3,
   "metadata": {},
   "outputs": [
    {
     "name": "stderr",
     "output_type": "stream",
     "text": [
      "\u001b[1m\u001b[22m`summarise()` has grouped output by 'TYPE'. You can override using the\n",
      "`.groups` argument.\n"
     ]
    },
    {
     "data": {
      "text/html": [
       "<table class=\"dataframe\">\n",
       "<caption>A tibble: 25 × 12</caption>\n",
       "<thead>\n",
       "\t<tr><th scope=col>NEIGHBOURHOOD</th><th scope=col>Break and Enter Commercial</th><th scope=col>Break and Enter Residential/Other</th><th scope=col>Homicide</th><th scope=col>Mischief</th><th scope=col>Offence Against a Person</th><th scope=col>Other Theft</th><th scope=col>Theft from Vehicle</th><th scope=col>Theft of Bicycle</th><th scope=col>Theft of Vehicle</th><th scope=col>Vehicle Collision or Pedestrian Struck (with Fatality)</th><th scope=col>Vehicle Collision or Pedestrian Struck (with Injury)</th></tr>\n",
       "\t<tr><th scope=col>&lt;chr&gt;</th><th scope=col>&lt;int&gt;</th><th scope=col>&lt;int&gt;</th><th scope=col>&lt;int&gt;</th><th scope=col>&lt;int&gt;</th><th scope=col>&lt;int&gt;</th><th scope=col>&lt;int&gt;</th><th scope=col>&lt;int&gt;</th><th scope=col>&lt;int&gt;</th><th scope=col>&lt;int&gt;</th><th scope=col>&lt;int&gt;</th><th scope=col>&lt;int&gt;</th></tr>\n",
       "</thead>\n",
       "<tbody>\n",
       "\t<tr><td>Arbutus Ridge            </td><td>  385</td><td>1981</td><td> 3</td><td> 1137</td><td>  333</td><td> 1501</td><td> 2315</td><td> 244</td><td> 540</td><td> 5</td><td> 368</td></tr>\n",
       "\t<tr><td>Central Business District</td><td>12411</td><td>4103</td><td>67</td><td>25002</td><td>20322</td><td>69745</td><td>66812</td><td>9168</td><td>4617</td><td>49</td><td>4040</td></tr>\n",
       "\t<tr><td>Dunbar-Southlands        </td><td>  337</td><td>2211</td><td> 1</td><td> 1648</td><td>  385</td><td> 1233</td><td> 3636</td><td> 337</td><td> 675</td><td> 4</td><td> 354</td></tr>\n",
       "\t<tr><td>Fairview                 </td><td> 4216</td><td>4150</td><td> 4</td><td> 4359</td><td> 1844</td><td>13131</td><td>14832</td><td>4442</td><td>2237</td><td>15</td><td>1421</td></tr>\n",
       "\t<tr><td>Grandview-Woodland       </td><td> 2741</td><td>5104</td><td>19</td><td> 6415</td><td> 5806</td><td> 9451</td><td> 9876</td><td>1888</td><td>3589</td><td>10</td><td>1483</td></tr>\n",
       "\t<tr><td>Hastings-Sunrise         </td><td> 1144</td><td>3737</td><td>14</td><td> 3910</td><td> 2116</td><td> 4734</td><td> 8027</td><td> 545</td><td>2789</td><td>19</td><td>1553</td></tr>\n",
       "\t<tr><td>Kensington-Cedar Cottage </td><td> 1575</td><td>4715</td><td>18</td><td> 4920</td><td> 3346</td><td> 8109</td><td> 9779</td><td>1225</td><td>3239</td><td>19</td><td>1895</td></tr>\n",
       "\t<tr><td>Kerrisdale               </td><td>  438</td><td>2258</td><td> 2</td><td> 1302</td><td>  354</td><td> 1532</td><td> 3491</td><td> 255</td><td> 618</td><td> 9</td><td> 568</td></tr>\n",
       "\t<tr><td>Killarney                </td><td>  457</td><td>2351</td><td>12</td><td> 2147</td><td> 1194</td><td> 1933</td><td> 4942</td><td> 274</td><td>1451</td><td>17</td><td> 719</td></tr>\n",
       "\t<tr><td>Kitsilano                </td><td> 2610</td><td>5026</td><td> 8</td><td> 4760</td><td> 1586</td><td> 7971</td><td>11513</td><td>3271</td><td>2593</td><td>14</td><td>1284</td></tr>\n",
       "\t<tr><td>Marpole                  </td><td> 1376</td><td>2996</td><td> 7</td><td> 2509</td><td> 1383</td><td> 3264</td><td> 5500</td><td> 362</td><td>1784</td><td>11</td><td>1178</td></tr>\n",
       "\t<tr><td>Mount Pleasant           </td><td> 3848</td><td>3763</td><td>18</td><td> 5594</td><td> 3550</td><td>12884</td><td>12760</td><td>3742</td><td>3026</td><td>21</td><td>2006</td></tr>\n",
       "\t<tr><td>Musqueam                 </td><td>   20</td><td>  99</td><td>NA</td><td>  126</td><td>  272</td><td>   73</td><td>  238</td><td>   9</td><td>  45</td><td> 1</td><td>  71</td></tr>\n",
       "\t<tr><td>Oakridge                 </td><td>  453</td><td>2509</td><td> 2</td><td> 1146</td><td>  643</td><td> 3304</td><td> 2904</td><td> 287</td><td> 746</td><td> 7</td><td> 522</td></tr>\n",
       "\t<tr><td>Renfrew-Collingwood      </td><td> 1526</td><td>4837</td><td>22</td><td> 5035</td><td> 3698</td><td>10779</td><td>11043</td><td> 633</td><td>3390</td><td>14</td><td>1785</td></tr>\n",
       "\t<tr><td>Riley Park               </td><td> 1085</td><td>3241</td><td> 7</td><td> 2344</td><td> 1151</td><td> 3085</td><td> 5752</td><td> 867</td><td>1384</td><td> 8</td><td> 832</td></tr>\n",
       "\t<tr><td>Shaughnessy              </td><td>  174</td><td>2247</td><td> 3</td><td>  832</td><td>  380</td><td>  850</td><td> 2390</td><td> 189</td><td> 421</td><td> 7</td><td> 709</td></tr>\n",
       "\t<tr><td>South Cambie             </td><td>  428</td><td>1325</td><td> 1</td><td>  828</td><td>  315</td><td> 2166</td><td> 2078</td><td> 346</td><td> 479</td><td> 2</td><td> 286</td></tr>\n",
       "\t<tr><td>Stanley Park             </td><td>  107</td><td>  71</td><td> 4</td><td>  306</td><td>  298</td><td>  805</td><td> 3227</td><td> 263</td><td>  82</td><td> 6</td><td> 271</td></tr>\n",
       "\t<tr><td>Strathcona               </td><td> 2943</td><td>2543</td><td>37</td><td> 7276</td><td> 8953</td><td>12307</td><td>12416</td><td>1606</td><td>2139</td><td>28</td><td>1463</td></tr>\n",
       "\t<tr><td>Sunset                   </td><td> 1324</td><td>2874</td><td>21</td><td> 4009</td><td> 2376</td><td> 4800</td><td> 6772</td><td> 364</td><td>2496</td><td>22</td><td>1638</td></tr>\n",
       "\t<tr><td>Victoria-Fraserview      </td><td>  469</td><td>2756</td><td> 6</td><td> 2215</td><td> 1487</td><td> 2401</td><td> 4441</td><td> 200</td><td>1521</td><td>12</td><td>1005</td></tr>\n",
       "\t<tr><td>West End                 </td><td> 3846</td><td>3719</td><td>11</td><td> 7330</td><td> 7570</td><td>20732</td><td>22214</td><td>3767</td><td>3012</td><td> 9</td><td>1462</td></tr>\n",
       "\t<tr><td>West Point Grey          </td><td>  394</td><td>1615</td><td> 3</td><td> 1133</td><td>  438</td><td> 1495</td><td> 2659</td><td> 494</td><td> 498</td><td> 8</td><td> 370</td></tr>\n",
       "\t<tr><td>Neighbourhood Missing    </td><td>   NA</td><td>  NA</td><td> 2</td><td>   NA</td><td>   40</td><td>   NA</td><td>   NA</td><td>  NA</td><td>  NA</td><td> 2</td><td>  91</td></tr>\n",
       "</tbody>\n",
       "</table>\n"
      ],
      "text/latex": [
       "A tibble: 25 × 12\n",
       "\\begin{tabular}{llllllllllll}\n",
       " NEIGHBOURHOOD & Break and Enter Commercial & Break and Enter Residential/Other & Homicide & Mischief & Offence Against a Person & Other Theft & Theft from Vehicle & Theft of Bicycle & Theft of Vehicle & Vehicle Collision or Pedestrian Struck (with Fatality) & Vehicle Collision or Pedestrian Struck (with Injury)\\\\\n",
       " <chr> & <int> & <int> & <int> & <int> & <int> & <int> & <int> & <int> & <int> & <int> & <int>\\\\\n",
       "\\hline\n",
       "\t Arbutus Ridge             &   385 & 1981 &  3 &  1137 &   333 &  1501 &  2315 &  244 &  540 &  5 &  368\\\\\n",
       "\t Central Business District & 12411 & 4103 & 67 & 25002 & 20322 & 69745 & 66812 & 9168 & 4617 & 49 & 4040\\\\\n",
       "\t Dunbar-Southlands         &   337 & 2211 &  1 &  1648 &   385 &  1233 &  3636 &  337 &  675 &  4 &  354\\\\\n",
       "\t Fairview                  &  4216 & 4150 &  4 &  4359 &  1844 & 13131 & 14832 & 4442 & 2237 & 15 & 1421\\\\\n",
       "\t Grandview-Woodland        &  2741 & 5104 & 19 &  6415 &  5806 &  9451 &  9876 & 1888 & 3589 & 10 & 1483\\\\\n",
       "\t Hastings-Sunrise          &  1144 & 3737 & 14 &  3910 &  2116 &  4734 &  8027 &  545 & 2789 & 19 & 1553\\\\\n",
       "\t Kensington-Cedar Cottage  &  1575 & 4715 & 18 &  4920 &  3346 &  8109 &  9779 & 1225 & 3239 & 19 & 1895\\\\\n",
       "\t Kerrisdale                &   438 & 2258 &  2 &  1302 &   354 &  1532 &  3491 &  255 &  618 &  9 &  568\\\\\n",
       "\t Killarney                 &   457 & 2351 & 12 &  2147 &  1194 &  1933 &  4942 &  274 & 1451 & 17 &  719\\\\\n",
       "\t Kitsilano                 &  2610 & 5026 &  8 &  4760 &  1586 &  7971 & 11513 & 3271 & 2593 & 14 & 1284\\\\\n",
       "\t Marpole                   &  1376 & 2996 &  7 &  2509 &  1383 &  3264 &  5500 &  362 & 1784 & 11 & 1178\\\\\n",
       "\t Mount Pleasant            &  3848 & 3763 & 18 &  5594 &  3550 & 12884 & 12760 & 3742 & 3026 & 21 & 2006\\\\\n",
       "\t Musqueam                  &    20 &   99 & NA &   126 &   272 &    73 &   238 &    9 &   45 &  1 &   71\\\\\n",
       "\t Oakridge                  &   453 & 2509 &  2 &  1146 &   643 &  3304 &  2904 &  287 &  746 &  7 &  522\\\\\n",
       "\t Renfrew-Collingwood       &  1526 & 4837 & 22 &  5035 &  3698 & 10779 & 11043 &  633 & 3390 & 14 & 1785\\\\\n",
       "\t Riley Park                &  1085 & 3241 &  7 &  2344 &  1151 &  3085 &  5752 &  867 & 1384 &  8 &  832\\\\\n",
       "\t Shaughnessy               &   174 & 2247 &  3 &   832 &   380 &   850 &  2390 &  189 &  421 &  7 &  709\\\\\n",
       "\t South Cambie              &   428 & 1325 &  1 &   828 &   315 &  2166 &  2078 &  346 &  479 &  2 &  286\\\\\n",
       "\t Stanley Park              &   107 &   71 &  4 &   306 &   298 &   805 &  3227 &  263 &   82 &  6 &  271\\\\\n",
       "\t Strathcona                &  2943 & 2543 & 37 &  7276 &  8953 & 12307 & 12416 & 1606 & 2139 & 28 & 1463\\\\\n",
       "\t Sunset                    &  1324 & 2874 & 21 &  4009 &  2376 &  4800 &  6772 &  364 & 2496 & 22 & 1638\\\\\n",
       "\t Victoria-Fraserview       &   469 & 2756 &  6 &  2215 &  1487 &  2401 &  4441 &  200 & 1521 & 12 & 1005\\\\\n",
       "\t West End                  &  3846 & 3719 & 11 &  7330 &  7570 & 20732 & 22214 & 3767 & 3012 &  9 & 1462\\\\\n",
       "\t West Point Grey           &   394 & 1615 &  3 &  1133 &   438 &  1495 &  2659 &  494 &  498 &  8 &  370\\\\\n",
       "\t Neighbourhood Missing     &    NA &   NA &  2 &    NA &    40 &    NA &    NA &   NA &   NA &  2 &   91\\\\\n",
       "\\end{tabular}\n"
      ],
      "text/markdown": [
       "\n",
       "A tibble: 25 × 12\n",
       "\n",
       "| NEIGHBOURHOOD &lt;chr&gt; | Break and Enter Commercial &lt;int&gt; | Break and Enter Residential/Other &lt;int&gt; | Homicide &lt;int&gt; | Mischief &lt;int&gt; | Offence Against a Person &lt;int&gt; | Other Theft &lt;int&gt; | Theft from Vehicle &lt;int&gt; | Theft of Bicycle &lt;int&gt; | Theft of Vehicle &lt;int&gt; | Vehicle Collision or Pedestrian Struck (with Fatality) &lt;int&gt; | Vehicle Collision or Pedestrian Struck (with Injury) &lt;int&gt; |\n",
       "|---|---|---|---|---|---|---|---|---|---|---|---|\n",
       "| Arbutus Ridge             |   385 | 1981 |  3 |  1137 |   333 |  1501 |  2315 |  244 |  540 |  5 |  368 |\n",
       "| Central Business District | 12411 | 4103 | 67 | 25002 | 20322 | 69745 | 66812 | 9168 | 4617 | 49 | 4040 |\n",
       "| Dunbar-Southlands         |   337 | 2211 |  1 |  1648 |   385 |  1233 |  3636 |  337 |  675 |  4 |  354 |\n",
       "| Fairview                  |  4216 | 4150 |  4 |  4359 |  1844 | 13131 | 14832 | 4442 | 2237 | 15 | 1421 |\n",
       "| Grandview-Woodland        |  2741 | 5104 | 19 |  6415 |  5806 |  9451 |  9876 | 1888 | 3589 | 10 | 1483 |\n",
       "| Hastings-Sunrise          |  1144 | 3737 | 14 |  3910 |  2116 |  4734 |  8027 |  545 | 2789 | 19 | 1553 |\n",
       "| Kensington-Cedar Cottage  |  1575 | 4715 | 18 |  4920 |  3346 |  8109 |  9779 | 1225 | 3239 | 19 | 1895 |\n",
       "| Kerrisdale                |   438 | 2258 |  2 |  1302 |   354 |  1532 |  3491 |  255 |  618 |  9 |  568 |\n",
       "| Killarney                 |   457 | 2351 | 12 |  2147 |  1194 |  1933 |  4942 |  274 | 1451 | 17 |  719 |\n",
       "| Kitsilano                 |  2610 | 5026 |  8 |  4760 |  1586 |  7971 | 11513 | 3271 | 2593 | 14 | 1284 |\n",
       "| Marpole                   |  1376 | 2996 |  7 |  2509 |  1383 |  3264 |  5500 |  362 | 1784 | 11 | 1178 |\n",
       "| Mount Pleasant            |  3848 | 3763 | 18 |  5594 |  3550 | 12884 | 12760 | 3742 | 3026 | 21 | 2006 |\n",
       "| Musqueam                  |    20 |   99 | NA |   126 |   272 |    73 |   238 |    9 |   45 |  1 |   71 |\n",
       "| Oakridge                  |   453 | 2509 |  2 |  1146 |   643 |  3304 |  2904 |  287 |  746 |  7 |  522 |\n",
       "| Renfrew-Collingwood       |  1526 | 4837 | 22 |  5035 |  3698 | 10779 | 11043 |  633 | 3390 | 14 | 1785 |\n",
       "| Riley Park                |  1085 | 3241 |  7 |  2344 |  1151 |  3085 |  5752 |  867 | 1384 |  8 |  832 |\n",
       "| Shaughnessy               |   174 | 2247 |  3 |   832 |   380 |   850 |  2390 |  189 |  421 |  7 |  709 |\n",
       "| South Cambie              |   428 | 1325 |  1 |   828 |   315 |  2166 |  2078 |  346 |  479 |  2 |  286 |\n",
       "| Stanley Park              |   107 |   71 |  4 |   306 |   298 |   805 |  3227 |  263 |   82 |  6 |  271 |\n",
       "| Strathcona                |  2943 | 2543 | 37 |  7276 |  8953 | 12307 | 12416 | 1606 | 2139 | 28 | 1463 |\n",
       "| Sunset                    |  1324 | 2874 | 21 |  4009 |  2376 |  4800 |  6772 |  364 | 2496 | 22 | 1638 |\n",
       "| Victoria-Fraserview       |   469 | 2756 |  6 |  2215 |  1487 |  2401 |  4441 |  200 | 1521 | 12 | 1005 |\n",
       "| West End                  |  3846 | 3719 | 11 |  7330 |  7570 | 20732 | 22214 | 3767 | 3012 |  9 | 1462 |\n",
       "| West Point Grey           |   394 | 1615 |  3 |  1133 |   438 |  1495 |  2659 |  494 |  498 |  8 |  370 |\n",
       "| Neighbourhood Missing     |    NA |   NA |  2 |    NA |    40 |    NA |    NA |   NA |   NA |  2 |   91 |\n",
       "\n"
      ],
      "text/plain": [
       "   NEIGHBOURHOOD             Break and Enter Commercial\n",
       "1  Arbutus Ridge               385                     \n",
       "2  Central Business District 12411                     \n",
       "3  Dunbar-Southlands           337                     \n",
       "4  Fairview                   4216                     \n",
       "5  Grandview-Woodland         2741                     \n",
       "6  Hastings-Sunrise           1144                     \n",
       "7  Kensington-Cedar Cottage   1575                     \n",
       "8  Kerrisdale                  438                     \n",
       "9  Killarney                   457                     \n",
       "10 Kitsilano                  2610                     \n",
       "11 Marpole                    1376                     \n",
       "12 Mount Pleasant             3848                     \n",
       "13 Musqueam                     20                     \n",
       "14 Oakridge                    453                     \n",
       "15 Renfrew-Collingwood        1526                     \n",
       "16 Riley Park                 1085                     \n",
       "17 Shaughnessy                 174                     \n",
       "18 South Cambie                428                     \n",
       "19 Stanley Park                107                     \n",
       "20 Strathcona                 2943                     \n",
       "21 Sunset                     1324                     \n",
       "22 Victoria-Fraserview         469                     \n",
       "23 West End                   3846                     \n",
       "24 West Point Grey             394                     \n",
       "25 Neighbourhood Missing        NA                     \n",
       "   Break and Enter Residential/Other Homicide Mischief Offence Against a Person\n",
       "1  1981                               3        1137      333                   \n",
       "2  4103                              67       25002    20322                   \n",
       "3  2211                               1        1648      385                   \n",
       "4  4150                               4        4359     1844                   \n",
       "5  5104                              19        6415     5806                   \n",
       "6  3737                              14        3910     2116                   \n",
       "7  4715                              18        4920     3346                   \n",
       "8  2258                               2        1302      354                   \n",
       "9  2351                              12        2147     1194                   \n",
       "10 5026                               8        4760     1586                   \n",
       "11 2996                               7        2509     1383                   \n",
       "12 3763                              18        5594     3550                   \n",
       "13   99                              NA         126      272                   \n",
       "14 2509                               2        1146      643                   \n",
       "15 4837                              22        5035     3698                   \n",
       "16 3241                               7        2344     1151                   \n",
       "17 2247                               3         832      380                   \n",
       "18 1325                               1         828      315                   \n",
       "19   71                               4         306      298                   \n",
       "20 2543                              37        7276     8953                   \n",
       "21 2874                              21        4009     2376                   \n",
       "22 2756                               6        2215     1487                   \n",
       "23 3719                              11        7330     7570                   \n",
       "24 1615                               3        1133      438                   \n",
       "25   NA                               2          NA       40                   \n",
       "   Other Theft Theft from Vehicle Theft of Bicycle Theft of Vehicle\n",
       "1   1501        2315               244              540            \n",
       "2  69745       66812              9168             4617            \n",
       "3   1233        3636               337              675            \n",
       "4  13131       14832              4442             2237            \n",
       "5   9451        9876              1888             3589            \n",
       "6   4734        8027               545             2789            \n",
       "7   8109        9779              1225             3239            \n",
       "8   1532        3491               255              618            \n",
       "9   1933        4942               274             1451            \n",
       "10  7971       11513              3271             2593            \n",
       "11  3264        5500               362             1784            \n",
       "12 12884       12760              3742             3026            \n",
       "13    73         238                 9               45            \n",
       "14  3304        2904               287              746            \n",
       "15 10779       11043               633             3390            \n",
       "16  3085        5752               867             1384            \n",
       "17   850        2390               189              421            \n",
       "18  2166        2078               346              479            \n",
       "19   805        3227               263               82            \n",
       "20 12307       12416              1606             2139            \n",
       "21  4800        6772               364             2496            \n",
       "22  2401        4441               200             1521            \n",
       "23 20732       22214              3767             3012            \n",
       "24  1495        2659               494              498            \n",
       "25    NA          NA                NA               NA            \n",
       "   Vehicle Collision or Pedestrian Struck (with Fatality)\n",
       "1   5                                                    \n",
       "2  49                                                    \n",
       "3   4                                                    \n",
       "4  15                                                    \n",
       "5  10                                                    \n",
       "6  19                                                    \n",
       "7  19                                                    \n",
       "8   9                                                    \n",
       "9  17                                                    \n",
       "10 14                                                    \n",
       "11 11                                                    \n",
       "12 21                                                    \n",
       "13  1                                                    \n",
       "14  7                                                    \n",
       "15 14                                                    \n",
       "16  8                                                    \n",
       "17  7                                                    \n",
       "18  2                                                    \n",
       "19  6                                                    \n",
       "20 28                                                    \n",
       "21 22                                                    \n",
       "22 12                                                    \n",
       "23  9                                                    \n",
       "24  8                                                    \n",
       "25  2                                                    \n",
       "   Vehicle Collision or Pedestrian Struck (with Injury)\n",
       "1   368                                                \n",
       "2  4040                                                \n",
       "3   354                                                \n",
       "4  1421                                                \n",
       "5  1483                                                \n",
       "6  1553                                                \n",
       "7  1895                                                \n",
       "8   568                                                \n",
       "9   719                                                \n",
       "10 1284                                                \n",
       "11 1178                                                \n",
       "12 2006                                                \n",
       "13   71                                                \n",
       "14  522                                                \n",
       "15 1785                                                \n",
       "16  832                                                \n",
       "17  709                                                \n",
       "18  286                                                \n",
       "19  271                                                \n",
       "20 1463                                                \n",
       "21 1638                                                \n",
       "22 1005                                                \n",
       "23 1462                                                \n",
       "24  370                                                \n",
       "25   91                                                "
      ]
     },
     "metadata": {},
     "output_type": "display_data"
    }
   ],
   "source": [
    "# not selecting 2022 as it is the present year\n",
    "vancouver_crime <- vancouver_crime %>%\n",
    "filter(YEAR != 2022) %>%\n",
    "select(TYPE, YEAR, NEIGHBOURHOOD)\n",
    "\n",
    "# crimes that do not have any neighbourhoods mentioned\n",
    "vancouver_crime[vancouver_crime == \"\"] <- \"Neighbourhood Missing\"\n",
    "\n",
    "tidy_data <- vancouver_crime %>%\n",
    "group_by(TYPE,NEIGHBOURHOOD) %>%\n",
    "summarize(Count = n())%>%\n",
    "pivot_wider(names_from = TYPE, \n",
    "values_from = Count)\n",
    "\n",
    "tidy_data\n",
    "\n",
    "westpoint_crime <- vancouver_crime %>%\n",
    "filter(NEIGHBOURHOOD == \"West Point Grey\")\n",
    "\n",
    "westend_crime <- vancouver_crime %>%\n",
    "filter(NEIGHBOURHOOD == \"West End\")\n"
   ]
  },
  {
   "cell_type": "code",
   "execution_count": 55,
   "metadata": {},
   "outputs": [
    {
     "name": "stderr",
     "output_type": "stream",
     "text": [
      "\u001b[1m\u001b[22m`summarise()` has grouped output by 'YEAR'. You can override using the\n",
      "`.groups` argument.\n",
      "\u001b[1m\u001b[22m`summarise()` has grouped output by 'YEAR'. You can override using the\n",
      "`.groups` argument.\n"
     ]
    },
    {
     "data": {
      "image/png": "[encoded data removed]",
      "text/plain": [
       "plot without title"
      ]
     },
     "metadata": {
      "image/png": {
       "height": 1080,
       "width": 1080
      }
     },
     "output_type": "display_data"
    },
    {
     "name": "stderr",
     "output_type": "stream",
     "text": [
      "Warning message:\n",
      "\"package 'see' is in use and will not be installed\"\n"
     ]
    },
    {
     "data": {
      "image/png": "[encoded data removed]",
      "text/plain": [
       "plot without title"
      ]
     },
     "metadata": {
      "image/png": {
       "height": 1080,
       "width": 1080
      }
     },
     "output_type": "display_data"
    },
    {
     "data": {
      "image/png": "[encoded data removed]",
      "text/plain": [
       "plot without title"
      ]
     },
     "metadata": {
      "image/png": {
       "height": 600,
       "width": 720
      }
     },
     "output_type": "display_data"
    }
   ],
   "source": [
    "westpoint_plot <- westpoint_crime %>%\n",
    "group_by(YEAR, TYPE) %>%\n",
    "summarise(Count = n()) %>%\n",
    "ggplot(aes(x = YEAR, y = Count, fill = TYPE)) +\n",
    "geom_bar(stat = \"identity\")\n",
    "\n",
    "westend_plot <- westend_crime %>%\n",
    "group_by(YEAR, TYPE) %>%\n",
    "summarise(Count = n()) %>%\n",
    "ggplot(aes(x = YEAR, y = Count, fill = TYPE)) +\n",
    "geom_bar(stat = \"identity\")\n",
    "westend_plot\n",
    "westpoint_plot\n",
    "install.packages(\"see\")\n",
    "\n",
    "library(see)\n",
    "plots(westend_plot,westpoint_plot)"
   ]
  },
  {
   "cell_type": "markdown",
   "metadata": {},
   "source": [
    "List of all Neighbourhoods present in data and their total crimes reported in past 20 years"
   ]
  },
  {
   "cell_type": "code",
   "execution_count": 5,
   "metadata": {},
   "outputs": [
    {
     "data": {
      "text/html": [
       "<table class=\"dataframe\">\n",
       "<caption>A tibble: 25 × 2</caption>\n",
       "<thead>\n",
       "\t<tr><th scope=col>NEIGHBOURHOOD</th><th scope=col>Count</th></tr>\n",
       "\t<tr><th scope=col>&lt;chr&gt;</th><th scope=col>&lt;int&gt;</th></tr>\n",
       "</thead>\n",
       "<tbody>\n",
       "\t<tr><td>Arbutus Ridge            </td><td>  8812</td></tr>\n",
       "\t<tr><td>Central Business District</td><td>216336</td></tr>\n",
       "\t<tr><td>Dunbar-Southlands        </td><td> 10821</td></tr>\n",
       "\t<tr><td>Fairview                 </td><td> 50651</td></tr>\n",
       "\t<tr><td>Grandview-Woodland       </td><td> 46382</td></tr>\n",
       "\t<tr><td>Hastings-Sunrise         </td><td> 28588</td></tr>\n",
       "\t<tr><td>Kensington-Cedar Cottage </td><td> 38840</td></tr>\n",
       "\t<tr><td>Kerrisdale               </td><td> 10827</td></tr>\n",
       "\t<tr><td>Killarney                </td><td> 15497</td></tr>\n",
       "\t<tr><td>Kitsilano                </td><td> 40636</td></tr>\n",
       "\t<tr><td>Marpole                  </td><td> 20370</td></tr>\n",
       "\t<tr><td>Mount Pleasant           </td><td> 51212</td></tr>\n",
       "\t<tr><td>Musqueam                 </td><td>   954</td></tr>\n",
       "\t<tr><td>Neighbourhood Missing    </td><td>   135</td></tr>\n",
       "\t<tr><td>Oakridge                 </td><td> 12523</td></tr>\n",
       "\t<tr><td>Renfrew-Collingwood      </td><td> 42762</td></tr>\n",
       "\t<tr><td>Riley Park               </td><td> 19756</td></tr>\n",
       "\t<tr><td>Shaughnessy              </td><td>  8202</td></tr>\n",
       "\t<tr><td>South Cambie             </td><td>  8254</td></tr>\n",
       "\t<tr><td>Stanley Park             </td><td>  5440</td></tr>\n",
       "\t<tr><td>Strathcona               </td><td> 51711</td></tr>\n",
       "\t<tr><td>Sunset                   </td><td> 26696</td></tr>\n",
       "\t<tr><td>Victoria-Fraserview      </td><td> 16513</td></tr>\n",
       "\t<tr><td>West End                 </td><td> 73672</td></tr>\n",
       "\t<tr><td>West Point Grey          </td><td>  9107</td></tr>\n",
       "</tbody>\n",
       "</table>\n"
      ],
      "text/latex": [
       "A tibble: 25 × 2\n",
       "\\begin{tabular}{ll}\n",
       " NEIGHBOURHOOD & Count\\\\\n",
       " <chr> & <int>\\\\\n",
       "\\hline\n",
       "\t Arbutus Ridge             &   8812\\\\\n",
       "\t Central Business District & 216336\\\\\n",
       "\t Dunbar-Southlands         &  10821\\\\\n",
       "\t Fairview                  &  50651\\\\\n",
       "\t Grandview-Woodland        &  46382\\\\\n",
       "\t Hastings-Sunrise          &  28588\\\\\n",
       "\t Kensington-Cedar Cottage  &  38840\\\\\n",
       "\t Kerrisdale                &  10827\\\\\n",
       "\t Killarney                 &  15497\\\\\n",
       "\t Kitsilano                 &  40636\\\\\n",
       "\t Marpole                   &  20370\\\\\n",
       "\t Mount Pleasant            &  51212\\\\\n",
       "\t Musqueam                  &    954\\\\\n",
       "\t Neighbourhood Missing     &    135\\\\\n",
       "\t Oakridge                  &  12523\\\\\n",
       "\t Renfrew-Collingwood       &  42762\\\\\n",
       "\t Riley Park                &  19756\\\\\n",
       "\t Shaughnessy               &   8202\\\\\n",
       "\t South Cambie              &   8254\\\\\n",
       "\t Stanley Park              &   5440\\\\\n",
       "\t Strathcona                &  51711\\\\\n",
       "\t Sunset                    &  26696\\\\\n",
       "\t Victoria-Fraserview       &  16513\\\\\n",
       "\t West End                  &  73672\\\\\n",
       "\t West Point Grey           &   9107\\\\\n",
       "\\end{tabular}\n"
      ],
      "text/markdown": [
       "\n",
       "A tibble: 25 × 2\n",
       "\n",
       "| NEIGHBOURHOOD &lt;chr&gt; | Count &lt;int&gt; |\n",
       "|---|---|\n",
       "| Arbutus Ridge             |   8812 |\n",
       "| Central Business District | 216336 |\n",
       "| Dunbar-Southlands         |  10821 |\n",
       "| Fairview                  |  50651 |\n",
       "| Grandview-Woodland        |  46382 |\n",
       "| Hastings-Sunrise          |  28588 |\n",
       "| Kensington-Cedar Cottage  |  38840 |\n",
       "| Kerrisdale                |  10827 |\n",
       "| Killarney                 |  15497 |\n",
       "| Kitsilano                 |  40636 |\n",
       "| Marpole                   |  20370 |\n",
       "| Mount Pleasant            |  51212 |\n",
       "| Musqueam                  |    954 |\n",
       "| Neighbourhood Missing     |    135 |\n",
       "| Oakridge                  |  12523 |\n",
       "| Renfrew-Collingwood       |  42762 |\n",
       "| Riley Park                |  19756 |\n",
       "| Shaughnessy               |   8202 |\n",
       "| South Cambie              |   8254 |\n",
       "| Stanley Park              |   5440 |\n",
       "| Strathcona                |  51711 |\n",
       "| Sunset                    |  26696 |\n",
       "| Victoria-Fraserview       |  16513 |\n",
       "| West End                  |  73672 |\n",
       "| West Point Grey           |   9107 |\n",
       "\n"
      ],
      "text/plain": [
       "   NEIGHBOURHOOD             Count \n",
       "1  Arbutus Ridge               8812\n",
       "2  Central Business District 216336\n",
       "3  Dunbar-Southlands          10821\n",
       "4  Fairview                   50651\n",
       "5  Grandview-Woodland         46382\n",
       "6  Hastings-Sunrise           28588\n",
       "7  Kensington-Cedar Cottage   38840\n",
       "8  Kerrisdale                 10827\n",
       "9  Killarney                  15497\n",
       "10 Kitsilano                  40636\n",
       "11 Marpole                    20370\n",
       "12 Mount Pleasant             51212\n",
       "13 Musqueam                     954\n",
       "14 Neighbourhood Missing        135\n",
       "15 Oakridge                   12523\n",
       "16 Renfrew-Collingwood        42762\n",
       "17 Riley Park                 19756\n",
       "18 Shaughnessy                 8202\n",
       "19 South Cambie                8254\n",
       "20 Stanley Park                5440\n",
       "21 Strathcona                 51711\n",
       "22 Sunset                     26696\n",
       "23 Victoria-Fraserview        16513\n",
       "24 West End                   73672\n",
       "25 West Point Grey             9107"
      ]
     },
     "metadata": {},
     "output_type": "display_data"
    }
   ],
   "source": [
    "neighbourhood_grouped <- vancouver_crime %>%\n",
    "group_by(NEIGHBOURHOOD) %>%\n",
    "summarize(Count = n())\n",
    "\n",
    "neighbourhood_grouped\n"
   ]
  },
  {
   "cell_type": "markdown",
   "metadata": {},
   "source": [
    "List of all Crimes and their count in the past 20 years"
   ]
  },
  {
   "cell_type": "code",
   "execution_count": 6,
   "metadata": {},
   "outputs": [
    {
     "data": {
      "text/html": [
       "<table class=\"dataframe\">\n",
       "<caption>A tibble: 11 × 3</caption>\n",
       "<thead>\n",
       "\t<tr><th scope=col>TYPE</th><th scope=col>Count</th><th scope=col>proportion</th></tr>\n",
       "\t<tr><th scope=col>&lt;chr&gt;</th><th scope=col>&lt;int&gt;</th><th scope=col>&lt;dbl&gt;</th></tr>\n",
       "</thead>\n",
       "<tbody>\n",
       "\t<tr><td>Break and Enter Commercial                            </td><td> 44307</td><td> 5.43846363</td></tr>\n",
       "\t<tr><td>Break and Enter Residential/Other                     </td><td> 70231</td><td> 8.62050554</td></tr>\n",
       "\t<tr><td>Homicide                                              </td><td>   292</td><td> 0.03584155</td></tr>\n",
       "\t<tr><td>Mischief                                              </td><td> 96283</td><td>11.81825881</td></tr>\n",
       "\t<tr><td>Offence Against a Person                              </td><td> 69840</td><td> 8.57251223</td></tr>\n",
       "\t<tr><td>Other Theft                                           </td><td>198285</td><td>24.33849640</td></tr>\n",
       "\t<tr><td>Theft from Vehicle                                    </td><td>229617</td><td>28.18434338</td></tr>\n",
       "\t<tr><td>Theft of Bicycle                                      </td><td> 34778</td><td> 4.26882632</td></tr>\n",
       "\t<tr><td>Theft of Vehicle                                      </td><td> 43371</td><td> 5.32357429</td></tr>\n",
       "\t<tr><td>Vehicle Collision or Pedestrian Struck (with Fatality)</td><td>   319</td><td> 0.03915566</td></tr>\n",
       "\t<tr><td>Vehicle Collision or Pedestrian Struck (with Injury)  </td><td> 27374</td><td> 3.36002219</td></tr>\n",
       "</tbody>\n",
       "</table>\n"
      ],
      "text/latex": [
       "A tibble: 11 × 3\n",
       "\\begin{tabular}{lll}\n",
       " TYPE & Count & proportion\\\\\n",
       " <chr> & <int> & <dbl>\\\\\n",
       "\\hline\n",
       "\t Break and Enter Commercial                             &  44307 &  5.43846363\\\\\n",
       "\t Break and Enter Residential/Other                      &  70231 &  8.62050554\\\\\n",
       "\t Homicide                                               &    292 &  0.03584155\\\\\n",
       "\t Mischief                                               &  96283 & 11.81825881\\\\\n",
       "\t Offence Against a Person                               &  69840 &  8.57251223\\\\\n",
       "\t Other Theft                                            & 198285 & 24.33849640\\\\\n",
       "\t Theft from Vehicle                                     & 229617 & 28.18434338\\\\\n",
       "\t Theft of Bicycle                                       &  34778 &  4.26882632\\\\\n",
       "\t Theft of Vehicle                                       &  43371 &  5.32357429\\\\\n",
       "\t Vehicle Collision or Pedestrian Struck (with Fatality) &    319 &  0.03915566\\\\\n",
       "\t Vehicle Collision or Pedestrian Struck (with Injury)   &  27374 &  3.36002219\\\\\n",
       "\\end{tabular}\n"
      ],
      "text/markdown": [
       "\n",
       "A tibble: 11 × 3\n",
       "\n",
       "| TYPE &lt;chr&gt; | Count &lt;int&gt; | proportion &lt;dbl&gt; |\n",
       "|---|---|---|\n",
       "| Break and Enter Commercial                             |  44307 |  5.43846363 |\n",
       "| Break and Enter Residential/Other                      |  70231 |  8.62050554 |\n",
       "| Homicide                                               |    292 |  0.03584155 |\n",
       "| Mischief                                               |  96283 | 11.81825881 |\n",
       "| Offence Against a Person                               |  69840 |  8.57251223 |\n",
       "| Other Theft                                            | 198285 | 24.33849640 |\n",
       "| Theft from Vehicle                                     | 229617 | 28.18434338 |\n",
       "| Theft of Bicycle                                       |  34778 |  4.26882632 |\n",
       "| Theft of Vehicle                                       |  43371 |  5.32357429 |\n",
       "| Vehicle Collision or Pedestrian Struck (with Fatality) |    319 |  0.03915566 |\n",
       "| Vehicle Collision or Pedestrian Struck (with Injury)   |  27374 |  3.36002219 |\n",
       "\n"
      ],
      "text/plain": [
       "   TYPE                                                   Count  proportion \n",
       "1  Break and Enter Commercial                              44307  5.43846363\n",
       "2  Break and Enter Residential/Other                       70231  8.62050554\n",
       "3  Homicide                                                  292  0.03584155\n",
       "4  Mischief                                                96283 11.81825881\n",
       "5  Offence Against a Person                                69840  8.57251223\n",
       "6  Other Theft                                            198285 24.33849640\n",
       "7  Theft from Vehicle                                     229617 28.18434338\n",
       "8  Theft of Bicycle                                        34778  4.26882632\n",
       "9  Theft of Vehicle                                        43371  5.32357429\n",
       "10 Vehicle Collision or Pedestrian Struck (with Fatality)    319  0.03915566\n",
       "11 Vehicle Collision or Pedestrian Struck (with Injury)    27374  3.36002219"
      ]
     },
     "metadata": {},
     "output_type": "display_data"
    }
   ],
   "source": [
    "crime_grouped <- vancouver_crime %>%\n",
    "group_by(TYPE) %>%\n",
    "summarize(Count = n()) %>%\n",
    "mutate(proportion = (Count / sum(Count)) * 100)\n",
    "\n",
    "crime_grouped\n"
   ]
  },
  {
   "cell_type": "markdown",
   "metadata": {},
   "source": [
    "Violent Crimes\n"
   ]
  },
  {
   "cell_type": "code",
   "execution_count": 7,
   "metadata": {},
   "outputs": [
    {
     "data": {
      "text/html": [
       "<table class=\"dataframe\">\n",
       "<caption>A tibble: 3 × 2</caption>\n",
       "<thead>\n",
       "\t<tr><th scope=col>TYPE</th><th scope=col>Count</th></tr>\n",
       "\t<tr><th scope=col>&lt;chr&gt;</th><th scope=col>&lt;int&gt;</th></tr>\n",
       "</thead>\n",
       "<tbody>\n",
       "\t<tr><td>Homicide                                              </td><td>  3</td></tr>\n",
       "\t<tr><td>Offence Against a Person                              </td><td>438</td></tr>\n",
       "\t<tr><td>Vehicle Collision or Pedestrian Struck (with Fatality)</td><td>  8</td></tr>\n",
       "</tbody>\n",
       "</table>\n"
      ],
      "text/latex": [
       "A tibble: 3 × 2\n",
       "\\begin{tabular}{ll}\n",
       " TYPE & Count\\\\\n",
       " <chr> & <int>\\\\\n",
       "\\hline\n",
       "\t Homicide                                               &   3\\\\\n",
       "\t Offence Against a Person                               & 438\\\\\n",
       "\t Vehicle Collision or Pedestrian Struck (with Fatality) &   8\\\\\n",
       "\\end{tabular}\n"
      ],
      "text/markdown": [
       "\n",
       "A tibble: 3 × 2\n",
       "\n",
       "| TYPE &lt;chr&gt; | Count &lt;int&gt; |\n",
       "|---|---|\n",
       "| Homicide                                               |   3 |\n",
       "| Offence Against a Person                               | 438 |\n",
       "| Vehicle Collision or Pedestrian Struck (with Fatality) |   8 |\n",
       "\n"
      ],
      "text/plain": [
       "  TYPE                                                   Count\n",
       "1 Homicide                                                 3  \n",
       "2 Offence Against a Person                               438  \n",
       "3 Vehicle Collision or Pedestrian Struck (with Fatality)   8  "
      ]
     },
     "metadata": {},
     "output_type": "display_data"
    },
    {
     "data": {
      "text/html": [
       "<table class=\"dataframe\">\n",
       "<caption>A tibble: 3 × 2</caption>\n",
       "<thead>\n",
       "\t<tr><th scope=col>TYPE</th><th scope=col>Count</th></tr>\n",
       "\t<tr><th scope=col>&lt;chr&gt;</th><th scope=col>&lt;int&gt;</th></tr>\n",
       "</thead>\n",
       "<tbody>\n",
       "\t<tr><td>Homicide                                              </td><td>  11</td></tr>\n",
       "\t<tr><td>Offence Against a Person                              </td><td>7570</td></tr>\n",
       "\t<tr><td>Vehicle Collision or Pedestrian Struck (with Fatality)</td><td>   9</td></tr>\n",
       "</tbody>\n",
       "</table>\n"
      ],
      "text/latex": [
       "A tibble: 3 × 2\n",
       "\\begin{tabular}{ll}\n",
       " TYPE & Count\\\\\n",
       " <chr> & <int>\\\\\n",
       "\\hline\n",
       "\t Homicide                                               &   11\\\\\n",
       "\t Offence Against a Person                               & 7570\\\\\n",
       "\t Vehicle Collision or Pedestrian Struck (with Fatality) &    9\\\\\n",
       "\\end{tabular}\n"
      ],
      "text/markdown": [
       "\n",
       "A tibble: 3 × 2\n",
       "\n",
       "| TYPE &lt;chr&gt; | Count &lt;int&gt; |\n",
       "|---|---|\n",
       "| Homicide                                               |   11 |\n",
       "| Offence Against a Person                               | 7570 |\n",
       "| Vehicle Collision or Pedestrian Struck (with Fatality) |    9 |\n",
       "\n"
      ],
      "text/plain": [
       "  TYPE                                                   Count\n",
       "1 Homicide                                                 11 \n",
       "2 Offence Against a Person                               7570 \n",
       "3 Vehicle Collision or Pedestrian Struck (with Fatality)    9 "
      ]
     },
     "metadata": {},
     "output_type": "display_data"
    },
    {
     "name": "stderr",
     "output_type": "stream",
     "text": [
      "\u001b[1m\u001b[22m`summarise()` has grouped output by 'YEAR'. You can override using the\n",
      "`.groups` argument.\n",
      "\u001b[1m\u001b[22m`summarise()` has grouped output by 'YEAR'. You can override using the\n",
      "`.groups` argument.\n"
     ]
    },
    {
     "data": {
      "image/png": "[encoded data removed]",
      "text/plain": [
       "plot without title"
      ]
     },
     "metadata": {
      "image/png": {
       "height": 420,
       "width": 420
      }
     },
     "output_type": "display_data"
    },
    {
     "data": {
      "image/png": "[encoded data removed]",
      "text/plain": [
       "plot without title"
      ]
     },
     "metadata": {
      "image/png": {
       "height": 420,
       "width": 420
      }
     },
     "output_type": "display_data"
    }
   ],
   "source": [
    "violent_crimes <- vancouver_crime %>%\n",
    "filter(TYPE == \"Homicide\" | TYPE == \"Offence Against a Person\" | TYPE == \"Vehicle Collision or Pedestrian Struck (with Fatality)\")\n",
    "\n",
    "\n",
    "westend_violent <- violent_crimes %>%\n",
    "filter(NEIGHBOURHOOD == \"West End\")\n",
    "\n",
    "westpoint_violent <- violent_crimes %>%\n",
    "filter(NEIGHBOURHOOD == \"West Point Grey\")\n",
    "\n",
    "westpoint_violent%>%\n",
    "group_by(TYPE)%>%\n",
    "summarise(Count = n())\n",
    "\n",
    "\n",
    "westend_violent%>%\n",
    "group_by(TYPE)%>%\n",
    "summarise(Count = n())\n",
    "\n",
    "westend_violent %>%\n",
    "group_by(YEAR, TYPE) %>%\n",
    "summarise(Count = n()) %>%\n",
    "ggplot(aes(x = YEAR, y = Count, fill = TYPE)) +\n",
    "geom_bar(stat = \"identity\")\n",
    "\n",
    "\n",
    "westpoint_violent %>%\n",
    "group_by(YEAR, TYPE) %>%\n",
    "summarise(Count = n()) %>%\n",
    "ggplot(aes(x = YEAR, y = Count, fill = TYPE)) +\n",
    "geom_bar(stat = \"identity\")\n"
   ]
  },
  {
   "cell_type": "markdown",
   "metadata": {},
   "source": [
    "True Point Estimates\n",
    "\n",
    "1. Mean of Westend crime per year\n",
    "2. Mean of WestPoint crime epr year\n",
    "3. Proportion of violent crimes happening in both neighbourhoods ()"
   ]
  },
  {
   "cell_type": "markdown",
   "metadata": {},
   "source": [
    "Sampling\n",
    "\n",
    "1."
   ]
  },
  {
   "cell_type": "code",
   "execution_count": 8,
   "metadata": {},
   "outputs": [
    {
     "name": "stderr",
     "output_type": "stream",
     "text": [
      "\u001b[1m\u001b[22m`summarise()` has grouped output by 'NEIGHBOURHOOD'. You can override using the\n",
      "`.groups` argument.\n",
      "Setting `type = \"bootstrap\"` in `generate()`.\n",
      "\n",
      "Setting `type = \"bootstrap\"` in `generate()`.\n",
      "\n"
     ]
    },
    {
     "data": {
      "image/png": "[encoded data removed]",
      "text/plain": [
       "plot without title"
      ]
     },
     "metadata": {
      "image/png": {
       "height": 420,
       "width": 420
      }
     },
     "output_type": "display_data"
    },
    {
     "data": {
      "image/png": "[encoded data removed]",
      "text/plain": [
       "plot without title"
      ]
     },
     "metadata": {
      "image/png": {
       "height": 420,
       "width": 420
      }
     },
     "output_type": "display_data"
    }
   ],
   "source": [
    "neighbourhood_year_grouped <- vancouver_crime %>%\n",
    "group_by(NEIGHBOURHOOD, YEAR) %>%\n",
    "summarize(Count = n()) \n",
    "\n",
    "westend_crime_sample <- neighbourhood_year_grouped %>%\n",
    "filter(NEIGHBOURHOOD == \"West End\") %>%\n",
    "specify(response = Count) %>%\n",
    "generate(reps = 1000) %>%\n",
    "calculate(stat = \"mean\") \n",
    "\n",
    "visualise(westend_crime_sample)\n",
    "\n",
    "westpoint_crime_sample <- neighbourhood_year_grouped %>%\n",
    "filter(NEIGHBOURHOOD == \"West Point Grey\") %>%\n",
    "specify(response = Count) %>%\n",
    "generate(reps = 1000) %>%\n",
    "calculate(stat = \"mean\") \n",
    "\n",
    "visualise(westpoint_crime_sample)\n"
   ]
  },
  {
   "cell_type": "code",
   "execution_count": 29,
   "metadata": {},
   "outputs": [
    {
     "data": {
      "text/html": [
       "<table class=\"dataframe\">\n",
       "<caption>A grouped_df: 6 × 4</caption>\n",
       "<thead>\n",
       "\t<tr><th scope=col>YEAR</th><th scope=col>TYPE</th><th scope=col>Count</th><th scope=col>ViolentCrime</th></tr>\n",
       "\t<tr><th scope=col>&lt;int&gt;</th><th scope=col>&lt;chr&gt;</th><th scope=col>&lt;int&gt;</th><th scope=col>&lt;chr&gt;</th></tr>\n",
       "</thead>\n",
       "<tbody>\n",
       "\t<tr><td>2003</td><td>Break and Enter Commercial       </td><td> 29</td><td>NO </td></tr>\n",
       "\t<tr><td>2003</td><td>Break and Enter Residential/Other</td><td>144</td><td>NO </td></tr>\n",
       "\t<tr><td>2003</td><td>Homicide                         </td><td>  1</td><td>YES</td></tr>\n",
       "\t<tr><td>2003</td><td>Mischief                         </td><td> 79</td><td>NO </td></tr>\n",
       "\t<tr><td>2003</td><td>Offence Against a Person         </td><td> 21</td><td>YES</td></tr>\n",
       "\t<tr><td>2003</td><td>Other Theft                      </td><td>112</td><td>NO </td></tr>\n",
       "</tbody>\n",
       "</table>\n"
      ],
      "text/latex": [
       "A grouped\\_df: 6 × 4\n",
       "\\begin{tabular}{llll}\n",
       " YEAR & TYPE & Count & ViolentCrime\\\\\n",
       " <int> & <chr> & <int> & <chr>\\\\\n",
       "\\hline\n",
       "\t 2003 & Break and Enter Commercial        &  29 & NO \\\\\n",
       "\t 2003 & Break and Enter Residential/Other & 144 & NO \\\\\n",
       "\t 2003 & Homicide                          &   1 & YES\\\\\n",
       "\t 2003 & Mischief                          &  79 & NO \\\\\n",
       "\t 2003 & Offence Against a Person          &  21 & YES\\\\\n",
       "\t 2003 & Other Theft                       & 112 & NO \\\\\n",
       "\\end{tabular}\n"
      ],
      "text/markdown": [
       "\n",
       "A grouped_df: 6 × 4\n",
       "\n",
       "| YEAR &lt;int&gt; | TYPE &lt;chr&gt; | Count &lt;int&gt; | ViolentCrime &lt;chr&gt; |\n",
       "|---|---|---|---|\n",
       "| 2003 | Break and Enter Commercial        |  29 | NO  |\n",
       "| 2003 | Break and Enter Residential/Other | 144 | NO  |\n",
       "| 2003 | Homicide                          |   1 | YES |\n",
       "| 2003 | Mischief                          |  79 | NO  |\n",
       "| 2003 | Offence Against a Person          |  21 | YES |\n",
       "| 2003 | Other Theft                       | 112 | NO  |\n",
       "\n"
      ],
      "text/plain": [
       "  YEAR TYPE                              Count ViolentCrime\n",
       "1 2003 Break and Enter Commercial         29   NO          \n",
       "2 2003 Break and Enter Residential/Other 144   NO          \n",
       "3 2003 Homicide                            1   YES         \n",
       "4 2003 Mischief                           79   NO          \n",
       "5 2003 Offence Against a Person           21   YES         \n",
       "6 2003 Other Theft                       112   NO          "
      ]
     },
     "metadata": {},
     "output_type": "display_data"
    },
    {
     "data": {
      "image/png": "[encoded data removed]",
      "text/plain": [
       "plot without title"
      ]
     },
     "metadata": {
      "image/png": {
       "height": 420,
       "width": 420
      }
     },
     "output_type": "display_data"
    },
    {
     "data": {
      "image/png": "[encoded data removed]",
      "text/plain": [
       "plot without title"
      ]
     },
     "metadata": {
      "image/png": {
       "height": 420,
       "width": 420
      }
     },
     "output_type": "display_data"
    }
   ],
   "source": [
    "westpoint_crime <- westpoint_crime %>%\n",
    "mutate(ViolentCrime = if_else(TYPE == \"Homicide\" | TYPE == \"Offence Against a Person\" | TYPE == \"Vehicle Collision or Pedestrian Struck (with Fatality)\", \"YES\", \"NO\"))\n",
    "\n",
    "head(westpoint_crime)\n",
    "\n",
    "westend_crime <- westend_crime %>%\n",
    "mutate(ViolentCrime = if_else(TYPE == \"Homicide\" | TYPE == \"Offence Against a Person\" | TYPE == \"Vehicle Collision or Pedestrian Struck (with Fatality)\", \"YES\", \"NO\"))\n",
    "\n",
    "westpoint_violent_sample <-  westpoint_crime %>%\n",
    "specify(response = ViolentCrime, success = \"YES\") %>%\n",
    "generate(type = \"bootstrap\", reps = 1000) %>% \n",
    "calculate(stat = \"prop\") \n",
    "\n",
    "visualise(westpoint_violent_sample)\n",
    "\n",
    "westend_violent_sample <-  westend_crime %>%\n",
    "specify(response = ViolentCrime, success = \"YES\") %>%\n",
    "generate(type = \"bootstrap\", reps = 1000) %>% \n",
    "calculate(stat = \"prop\")\n",
    "\n",
    "visualise(westend_violent_sample)\n"
   ]
  },
  {
   "cell_type": "markdown",
   "metadata": {},
   "source": [
    "Neighbourhood and Year grouped"
   ]
  },
  {
   "cell_type": "code",
   "execution_count": 24,
   "metadata": {},
   "outputs": [
    {
     "name": "stderr",
     "output_type": "stream",
     "text": [
      "\u001b[1m\u001b[22m`summarise()` has grouped output by 'NEIGHBOURHOOD'. You can override using the\n",
      "`.groups` argument.\n"
     ]
    },
    {
     "data": {
      "text/html": [
       "<table class=\"dataframe\">\n",
       "<caption>A grouped_df: 6 × 3</caption>\n",
       "<thead>\n",
       "\t<tr><th scope=col>NEIGHBOURHOOD</th><th scope=col>YEAR</th><th scope=col>Count</th></tr>\n",
       "\t<tr><th scope=col>&lt;chr&gt;</th><th scope=col>&lt;int&gt;</th><th scope=col>&lt;int&gt;</th></tr>\n",
       "</thead>\n",
       "<tbody>\n",
       "\t<tr><td>Arbutus Ridge</td><td>2003</td><td>746</td></tr>\n",
       "\t<tr><td>Arbutus Ridge</td><td>2004</td><td>755</td></tr>\n",
       "\t<tr><td>Arbutus Ridge</td><td>2005</td><td>705</td></tr>\n",
       "\t<tr><td>Arbutus Ridge</td><td>2006</td><td>543</td></tr>\n",
       "\t<tr><td>Arbutus Ridge</td><td>2007</td><td>453</td></tr>\n",
       "\t<tr><td>Arbutus Ridge</td><td>2008</td><td>425</td></tr>\n",
       "</tbody>\n",
       "</table>\n"
      ],
      "text/latex": [
       "A grouped\\_df: 6 × 3\n",
       "\\begin{tabular}{lll}\n",
       " NEIGHBOURHOOD & YEAR & Count\\\\\n",
       " <chr> & <int> & <int>\\\\\n",
       "\\hline\n",
       "\t Arbutus Ridge & 2003 & 746\\\\\n",
       "\t Arbutus Ridge & 2004 & 755\\\\\n",
       "\t Arbutus Ridge & 2005 & 705\\\\\n",
       "\t Arbutus Ridge & 2006 & 543\\\\\n",
       "\t Arbutus Ridge & 2007 & 453\\\\\n",
       "\t Arbutus Ridge & 2008 & 425\\\\\n",
       "\\end{tabular}\n"
      ],
      "text/markdown": [
       "\n",
       "A grouped_df: 6 × 3\n",
       "\n",
       "| NEIGHBOURHOOD &lt;chr&gt; | YEAR &lt;int&gt; | Count &lt;int&gt; |\n",
       "|---|---|---|\n",
       "| Arbutus Ridge | 2003 | 746 |\n",
       "| Arbutus Ridge | 2004 | 755 |\n",
       "| Arbutus Ridge | 2005 | 705 |\n",
       "| Arbutus Ridge | 2006 | 543 |\n",
       "| Arbutus Ridge | 2007 | 453 |\n",
       "| Arbutus Ridge | 2008 | 425 |\n",
       "\n"
      ],
      "text/plain": [
       "  NEIGHBOURHOOD YEAR Count\n",
       "1 Arbutus Ridge 2003 746  \n",
       "2 Arbutus Ridge 2004 755  \n",
       "3 Arbutus Ridge 2005 705  \n",
       "4 Arbutus Ridge 2006 543  \n",
       "5 Arbutus Ridge 2007 453  \n",
       "6 Arbutus Ridge 2008 425  "
      ]
     },
     "metadata": {},
     "output_type": "display_data"
    }
   ],
   "source": [
    "neighbourhood_year_grouped <- vancouver_crime %>%\n",
    "group_by(NEIGHBOURHOOD, YEAR) %>%\n",
    "summarize(Count = n())\n",
    "\n",
    "head(neighbourhood_year_grouped)\n"
   ]
  },
  {
   "cell_type": "markdown",
   "metadata": {},
   "source": [
    "Finally, after analyzing all variables and values, to answer our question we select neighbourhoods and their respect annual crime count "
   ]
  },
  {
   "cell_type": "code",
   "execution_count": 25,
   "metadata": {},
   "outputs": [
    {
     "data": {
      "text/html": [
       "<table class=\"dataframe\">\n",
       "<caption>A tibble: 19 × 26</caption>\n",
       "<thead>\n",
       "\t<tr><th scope=col>YEAR</th><th scope=col>Arbutus Ridge</th><th scope=col>Central Business District</th><th scope=col>Dunbar-Southlands</th><th scope=col>Fairview</th><th scope=col>Grandview-Woodland</th><th scope=col>Hastings-Sunrise</th><th scope=col>Kensington-Cedar Cottage</th><th scope=col>Kerrisdale</th><th scope=col>Killarney</th><th scope=col>...</th><th scope=col>Renfrew-Collingwood</th><th scope=col>Riley Park</th><th scope=col>Shaughnessy</th><th scope=col>South Cambie</th><th scope=col>Stanley Park</th><th scope=col>Strathcona</th><th scope=col>Sunset</th><th scope=col>Victoria-Fraserview</th><th scope=col>West End</th><th scope=col>West Point Grey</th></tr>\n",
       "\t<tr><th scope=col>&lt;int&gt;</th><th scope=col>&lt;int&gt;</th><th scope=col>&lt;int&gt;</th><th scope=col>&lt;int&gt;</th><th scope=col>&lt;int&gt;</th><th scope=col>&lt;int&gt;</th><th scope=col>&lt;int&gt;</th><th scope=col>&lt;int&gt;</th><th scope=col>&lt;int&gt;</th><th scope=col>&lt;int&gt;</th><th scope=col>...</th><th scope=col>&lt;int&gt;</th><th scope=col>&lt;int&gt;</th><th scope=col>&lt;int&gt;</th><th scope=col>&lt;int&gt;</th><th scope=col>&lt;int&gt;</th><th scope=col>&lt;int&gt;</th><th scope=col>&lt;int&gt;</th><th scope=col>&lt;int&gt;</th><th scope=col>&lt;int&gt;</th><th scope=col>&lt;int&gt;</th></tr>\n",
       "</thead>\n",
       "<tbody>\n",
       "\t<tr><td>2003</td><td>746</td><td>13053</td><td> 858</td><td>4392</td><td>4049</td><td>2226</td><td>2751</td><td>746</td><td>1101</td><td>...</td><td>2823</td><td>1356</td><td>604</td><td>665</td><td>516</td><td>3533</td><td>2254</td><td>1315</td><td>6196</td><td>672</td></tr>\n",
       "\t<tr><td>2004</td><td>755</td><td>12178</td><td>1047</td><td>3881</td><td>3566</td><td>2286</td><td>3140</td><td>954</td><td>1341</td><td>...</td><td>3221</td><td>1398</td><td>618</td><td>573</td><td>478</td><td>3423</td><td>2170</td><td>1469</td><td>5470</td><td>783</td></tr>\n",
       "\t<tr><td>2005</td><td>705</td><td>11262</td><td> 804</td><td>3939</td><td>3206</td><td>1867</td><td>2708</td><td>944</td><td>1283</td><td>...</td><td>2827</td><td>1358</td><td>636</td><td>546</td><td>446</td><td>3332</td><td>2003</td><td>1359</td><td>4700</td><td>734</td></tr>\n",
       "\t<tr><td>2006</td><td>543</td><td>11754</td><td> 624</td><td>3289</td><td>2841</td><td>1855</td><td>2625</td><td>747</td><td>1148</td><td>...</td><td>2871</td><td>1239</td><td>401</td><td>443</td><td>415</td><td>2788</td><td>1969</td><td>1117</td><td>4704</td><td>573</td></tr>\n",
       "\t<tr><td>2007</td><td>453</td><td>11473</td><td> 513</td><td>3025</td><td>2857</td><td>1566</td><td>2193</td><td>560</td><td> 989</td><td>...</td><td>2256</td><td> 939</td><td>415</td><td>368</td><td>288</td><td>2525</td><td>1759</td><td> 905</td><td>4309</td><td>465</td></tr>\n",
       "\t<tr><td>2008</td><td>425</td><td>11441</td><td> 425</td><td>2642</td><td>2414</td><td>1457</td><td>2063</td><td>435</td><td> 728</td><td>...</td><td>2184</td><td> 948</td><td>345</td><td>342</td><td>335</td><td>2493</td><td>1471</td><td> 810</td><td>4191</td><td>390</td></tr>\n",
       "\t<tr><td>2009</td><td>457</td><td>10048</td><td> 453</td><td>2629</td><td>2083</td><td>1385</td><td>1889</td><td>508</td><td> 798</td><td>...</td><td>1999</td><td> 869</td><td>272</td><td>397</td><td>316</td><td>2180</td><td>1336</td><td> 796</td><td>3395</td><td>441</td></tr>\n",
       "\t<tr><td>2010</td><td>393</td><td> 9101</td><td> 467</td><td>2237</td><td>2008</td><td>1251</td><td>1887</td><td>444</td><td> 729</td><td>...</td><td>2086</td><td> 844</td><td>314</td><td>366</td><td>237</td><td>2133</td><td>1380</td><td> 755</td><td>3197</td><td>429</td></tr>\n",
       "\t<tr><td>2011</td><td>354</td><td> 9071</td><td> 555</td><td>1975</td><td>1944</td><td>1313</td><td>1665</td><td>480</td><td> 657</td><td>...</td><td>1897</td><td> 858</td><td>408</td><td>333</td><td>231</td><td>2146</td><td>1101</td><td> 810</td><td>2884</td><td>397</td></tr>\n",
       "\t<tr><td>2012</td><td>405</td><td> 8846</td><td> 626</td><td>2284</td><td>1970</td><td>1345</td><td>1640</td><td>611</td><td> 796</td><td>...</td><td>1911</td><td> 924</td><td>430</td><td>361</td><td>249</td><td>2216</td><td>1256</td><td> 719</td><td>2850</td><td>403</td></tr>\n",
       "\t<tr><td>2013</td><td>363</td><td> 9665</td><td> 453</td><td>2094</td><td>2211</td><td>1140</td><td>2005</td><td>420</td><td> 640</td><td>...</td><td>1752</td><td>1037</td><td>331</td><td>340</td><td>338</td><td>2162</td><td>1135</td><td> 731</td><td>3085</td><td>330</td></tr>\n",
       "\t<tr><td>2014</td><td>467</td><td>10532</td><td> 536</td><td>2580</td><td>2133</td><td>1183</td><td>2067</td><td>486</td><td> 722</td><td>...</td><td>2011</td><td> 982</td><td>424</td><td>497</td><td>255</td><td>2457</td><td>1076</td><td> 743</td><td>3392</td><td>439</td></tr>\n",
       "\t<tr><td>2015</td><td>438</td><td>11265</td><td> 625</td><td>2468</td><td>2180</td><td>1292</td><td>1859</td><td>550</td><td> 690</td><td>...</td><td>1975</td><td> 984</td><td>437</td><td>483</td><td>269</td><td>2512</td><td>1042</td><td> 731</td><td>3506</td><td>441</td></tr>\n",
       "\t<tr><td>2016</td><td>491</td><td>13364</td><td> 472</td><td>2416</td><td>2433</td><td>1400</td><td>1910</td><td>546</td><td> 627</td><td>...</td><td>2088</td><td>1114</td><td>474</td><td>434</td><td>199</td><td>2918</td><td>1189</td><td> 723</td><td>3946</td><td>457</td></tr>\n",
       "\t<tr><td>2017</td><td>430</td><td>13386</td><td> 519</td><td>2168</td><td>2402</td><td>1436</td><td>1691</td><td>473</td><td> 720</td><td>...</td><td>2354</td><td>1008</td><td>490</td><td>400</td><td>210</td><td>2945</td><td>1037</td><td> 802</td><td>3825</td><td>465</td></tr>\n",
       "\t<tr><td>2018</td><td>367</td><td>14362</td><td> 519</td><td>2231</td><td>2230</td><td>1506</td><td>1698</td><td>506</td><td> 684</td><td>...</td><td>2123</td><td>1060</td><td>474</td><td>360</td><td>200</td><td>3100</td><td>1166</td><td> 735</td><td>3874</td><td>420</td></tr>\n",
       "\t<tr><td>2019</td><td>365</td><td>16063</td><td> 488</td><td>2677</td><td>2331</td><td>1621</td><td>1933</td><td>521</td><td> 733</td><td>...</td><td>2169</td><td>1204</td><td>380</td><td>496</td><td>239</td><td>3407</td><td>1296</td><td> 763</td><td>4216</td><td>453</td></tr>\n",
       "\t<tr><td>2020</td><td>370</td><td>10351</td><td> 508</td><td>2135</td><td>1939</td><td>1287</td><td>1656</td><td>460</td><td> 589</td><td>...</td><td>2187</td><td> 895</td><td>433</td><td>489</td><td> 92</td><td>3089</td><td>1097</td><td> 637</td><td>3117</td><td>468</td></tr>\n",
       "\t<tr><td>2021</td><td>285</td><td> 9121</td><td> 329</td><td>1589</td><td>1585</td><td>1172</td><td>1460</td><td>436</td><td> 522</td><td>...</td><td>2028</td><td> 739</td><td>316</td><td>361</td><td>127</td><td>2352</td><td> 959</td><td> 593</td><td>2815</td><td>347</td></tr>\n",
       "</tbody>\n",
       "</table>\n"
      ],
      "text/latex": [
       "A tibble: 19 × 26\n",
       "\\begin{tabular}{lllllllllllllllllllll}\n",
       " YEAR & Arbutus Ridge & Central Business District & Dunbar-Southlands & Fairview & Grandview-Woodland & Hastings-Sunrise & Kensington-Cedar Cottage & Kerrisdale & Killarney & ... & Renfrew-Collingwood & Riley Park & Shaughnessy & South Cambie & Stanley Park & Strathcona & Sunset & Victoria-Fraserview & West End & West Point Grey\\\\\n",
       " <int> & <int> & <int> & <int> & <int> & <int> & <int> & <int> & <int> & <int> & ... & <int> & <int> & <int> & <int> & <int> & <int> & <int> & <int> & <int> & <int>\\\\\n",
       "\\hline\n",
       "\t 2003 & 746 & 13053 &  858 & 4392 & 4049 & 2226 & 2751 & 746 & 1101 & ... & 2823 & 1356 & 604 & 665 & 516 & 3533 & 2254 & 1315 & 6196 & 672\\\\\n",
       "\t 2004 & 755 & 12178 & 1047 & 3881 & 3566 & 2286 & 3140 & 954 & 1341 & ... & 3221 & 1398 & 618 & 573 & 478 & 3423 & 2170 & 1469 & 5470 & 783\\\\\n",
       "\t 2005 & 705 & 11262 &  804 & 3939 & 3206 & 1867 & 2708 & 944 & 1283 & ... & 2827 & 1358 & 636 & 546 & 446 & 3332 & 2003 & 1359 & 4700 & 734\\\\\n",
       "\t 2006 & 543 & 11754 &  624 & 3289 & 2841 & 1855 & 2625 & 747 & 1148 & ... & 2871 & 1239 & 401 & 443 & 415 & 2788 & 1969 & 1117 & 4704 & 573\\\\\n",
       "\t 2007 & 453 & 11473 &  513 & 3025 & 2857 & 1566 & 2193 & 560 &  989 & ... & 2256 &  939 & 415 & 368 & 288 & 2525 & 1759 &  905 & 4309 & 465\\\\\n",
       "\t 2008 & 425 & 11441 &  425 & 2642 & 2414 & 1457 & 2063 & 435 &  728 & ... & 2184 &  948 & 345 & 342 & 335 & 2493 & 1471 &  810 & 4191 & 390\\\\\n",
       "\t 2009 & 457 & 10048 &  453 & 2629 & 2083 & 1385 & 1889 & 508 &  798 & ... & 1999 &  869 & 272 & 397 & 316 & 2180 & 1336 &  796 & 3395 & 441\\\\\n",
       "\t 2010 & 393 &  9101 &  467 & 2237 & 2008 & 1251 & 1887 & 444 &  729 & ... & 2086 &  844 & 314 & 366 & 237 & 2133 & 1380 &  755 & 3197 & 429\\\\\n",
       "\t 2011 & 354 &  9071 &  555 & 1975 & 1944 & 1313 & 1665 & 480 &  657 & ... & 1897 &  858 & 408 & 333 & 231 & 2146 & 1101 &  810 & 2884 & 397\\\\\n",
       "\t 2012 & 405 &  8846 &  626 & 2284 & 1970 & 1345 & 1640 & 611 &  796 & ... & 1911 &  924 & 430 & 361 & 249 & 2216 & 1256 &  719 & 2850 & 403\\\\\n",
       "\t 2013 & 363 &  9665 &  453 & 2094 & 2211 & 1140 & 2005 & 420 &  640 & ... & 1752 & 1037 & 331 & 340 & 338 & 2162 & 1135 &  731 & 3085 & 330\\\\\n",
       "\t 2014 & 467 & 10532 &  536 & 2580 & 2133 & 1183 & 2067 & 486 &  722 & ... & 2011 &  982 & 424 & 497 & 255 & 2457 & 1076 &  743 & 3392 & 439\\\\\n",
       "\t 2015 & 438 & 11265 &  625 & 2468 & 2180 & 1292 & 1859 & 550 &  690 & ... & 1975 &  984 & 437 & 483 & 269 & 2512 & 1042 &  731 & 3506 & 441\\\\\n",
       "\t 2016 & 491 & 13364 &  472 & 2416 & 2433 & 1400 & 1910 & 546 &  627 & ... & 2088 & 1114 & 474 & 434 & 199 & 2918 & 1189 &  723 & 3946 & 457\\\\\n",
       "\t 2017 & 430 & 13386 &  519 & 2168 & 2402 & 1436 & 1691 & 473 &  720 & ... & 2354 & 1008 & 490 & 400 & 210 & 2945 & 1037 &  802 & 3825 & 465\\\\\n",
       "\t 2018 & 367 & 14362 &  519 & 2231 & 2230 & 1506 & 1698 & 506 &  684 & ... & 2123 & 1060 & 474 & 360 & 200 & 3100 & 1166 &  735 & 3874 & 420\\\\\n",
       "\t 2019 & 365 & 16063 &  488 & 2677 & 2331 & 1621 & 1933 & 521 &  733 & ... & 2169 & 1204 & 380 & 496 & 239 & 3407 & 1296 &  763 & 4216 & 453\\\\\n",
       "\t 2020 & 370 & 10351 &  508 & 2135 & 1939 & 1287 & 1656 & 460 &  589 & ... & 2187 &  895 & 433 & 489 &  92 & 3089 & 1097 &  637 & 3117 & 468\\\\\n",
       "\t 2021 & 285 &  9121 &  329 & 1589 & 1585 & 1172 & 1460 & 436 &  522 & ... & 2028 &  739 & 316 & 361 & 127 & 2352 &  959 &  593 & 2815 & 347\\\\\n",
       "\\end{tabular}\n"
      ],
      "text/markdown": [
       "\n",
       "A tibble: 19 × 26\n",
       "\n",
       "| YEAR &lt;int&gt; | Arbutus Ridge &lt;int&gt; | Central Business District &lt;int&gt; | Dunbar-Southlands &lt;int&gt; | Fairview &lt;int&gt; | Grandview-Woodland &lt;int&gt; | Hastings-Sunrise &lt;int&gt; | Kensington-Cedar Cottage &lt;int&gt; | Kerrisdale &lt;int&gt; | Killarney &lt;int&gt; | ... ... | Renfrew-Collingwood &lt;int&gt; | Riley Park &lt;int&gt; | Shaughnessy &lt;int&gt; | South Cambie &lt;int&gt; | Stanley Park &lt;int&gt; | Strathcona &lt;int&gt; | Sunset &lt;int&gt; | Victoria-Fraserview &lt;int&gt; | West End &lt;int&gt; | West Point Grey &lt;int&gt; |\n",
       "|---|---|---|---|---|---|---|---|---|---|---|---|---|---|---|---|---|---|---|---|---|\n",
       "| 2003 | 746 | 13053 |  858 | 4392 | 4049 | 2226 | 2751 | 746 | 1101 | ... | 2823 | 1356 | 604 | 665 | 516 | 3533 | 2254 | 1315 | 6196 | 672 |\n",
       "| 2004 | 755 | 12178 | 1047 | 3881 | 3566 | 2286 | 3140 | 954 | 1341 | ... | 3221 | 1398 | 618 | 573 | 478 | 3423 | 2170 | 1469 | 5470 | 783 |\n",
       "| 2005 | 705 | 11262 |  804 | 3939 | 3206 | 1867 | 2708 | 944 | 1283 | ... | 2827 | 1358 | 636 | 546 | 446 | 3332 | 2003 | 1359 | 4700 | 734 |\n",
       "| 2006 | 543 | 11754 |  624 | 3289 | 2841 | 1855 | 2625 | 747 | 1148 | ... | 2871 | 1239 | 401 | 443 | 415 | 2788 | 1969 | 1117 | 4704 | 573 |\n",
       "| 2007 | 453 | 11473 |  513 | 3025 | 2857 | 1566 | 2193 | 560 |  989 | ... | 2256 |  939 | 415 | 368 | 288 | 2525 | 1759 |  905 | 4309 | 465 |\n",
       "| 2008 | 425 | 11441 |  425 | 2642 | 2414 | 1457 | 2063 | 435 |  728 | ... | 2184 |  948 | 345 | 342 | 335 | 2493 | 1471 |  810 | 4191 | 390 |\n",
       "| 2009 | 457 | 10048 |  453 | 2629 | 2083 | 1385 | 1889 | 508 |  798 | ... | 1999 |  869 | 272 | 397 | 316 | 2180 | 1336 |  796 | 3395 | 441 |\n",
       "| 2010 | 393 |  9101 |  467 | 2237 | 2008 | 1251 | 1887 | 444 |  729 | ... | 2086 |  844 | 314 | 366 | 237 | 2133 | 1380 |  755 | 3197 | 429 |\n",
       "| 2011 | 354 |  9071 |  555 | 1975 | 1944 | 1313 | 1665 | 480 |  657 | ... | 1897 |  858 | 408 | 333 | 231 | 2146 | 1101 |  810 | 2884 | 397 |\n",
       "| 2012 | 405 |  8846 |  626 | 2284 | 1970 | 1345 | 1640 | 611 |  796 | ... | 1911 |  924 | 430 | 361 | 249 | 2216 | 1256 |  719 | 2850 | 403 |\n",
       "| 2013 | 363 |  9665 |  453 | 2094 | 2211 | 1140 | 2005 | 420 |  640 | ... | 1752 | 1037 | 331 | 340 | 338 | 2162 | 1135 |  731 | 3085 | 330 |\n",
       "| 2014 | 467 | 10532 |  536 | 2580 | 2133 | 1183 | 2067 | 486 |  722 | ... | 2011 |  982 | 424 | 497 | 255 | 2457 | 1076 |  743 | 3392 | 439 |\n",
       "| 2015 | 438 | 11265 |  625 | 2468 | 2180 | 1292 | 1859 | 550 |  690 | ... | 1975 |  984 | 437 | 483 | 269 | 2512 | 1042 |  731 | 3506 | 441 |\n",
       "| 2016 | 491 | 13364 |  472 | 2416 | 2433 | 1400 | 1910 | 546 |  627 | ... | 2088 | 1114 | 474 | 434 | 199 | 2918 | 1189 |  723 | 3946 | 457 |\n",
       "| 2017 | 430 | 13386 |  519 | 2168 | 2402 | 1436 | 1691 | 473 |  720 | ... | 2354 | 1008 | 490 | 400 | 210 | 2945 | 1037 |  802 | 3825 | 465 |\n",
       "| 2018 | 367 | 14362 |  519 | 2231 | 2230 | 1506 | 1698 | 506 |  684 | ... | 2123 | 1060 | 474 | 360 | 200 | 3100 | 1166 |  735 | 3874 | 420 |\n",
       "| 2019 | 365 | 16063 |  488 | 2677 | 2331 | 1621 | 1933 | 521 |  733 | ... | 2169 | 1204 | 380 | 496 | 239 | 3407 | 1296 |  763 | 4216 | 453 |\n",
       "| 2020 | 370 | 10351 |  508 | 2135 | 1939 | 1287 | 1656 | 460 |  589 | ... | 2187 |  895 | 433 | 489 |  92 | 3089 | 1097 |  637 | 3117 | 468 |\n",
       "| 2021 | 285 |  9121 |  329 | 1589 | 1585 | 1172 | 1460 | 436 |  522 | ... | 2028 |  739 | 316 | 361 | 127 | 2352 |  959 |  593 | 2815 | 347 |\n",
       "\n"
      ],
      "text/plain": [
       "   YEAR Arbutus Ridge Central Business District Dunbar-Southlands Fairview\n",
       "1  2003 746           13053                      858              4392    \n",
       "2  2004 755           12178                     1047              3881    \n",
       "3  2005 705           11262                      804              3939    \n",
       "4  2006 543           11754                      624              3289    \n",
       "5  2007 453           11473                      513              3025    \n",
       "6  2008 425           11441                      425              2642    \n",
       "7  2009 457           10048                      453              2629    \n",
       "8  2010 393            9101                      467              2237    \n",
       "9  2011 354            9071                      555              1975    \n",
       "10 2012 405            8846                      626              2284    \n",
       "11 2013 363            9665                      453              2094    \n",
       "12 2014 467           10532                      536              2580    \n",
       "13 2015 438           11265                      625              2468    \n",
       "14 2016 491           13364                      472              2416    \n",
       "15 2017 430           13386                      519              2168    \n",
       "16 2018 367           14362                      519              2231    \n",
       "17 2019 365           16063                      488              2677    \n",
       "18 2020 370           10351                      508              2135    \n",
       "19 2021 285            9121                      329              1589    \n",
       "   Grandview-Woodland Hastings-Sunrise Kensington-Cedar Cottage Kerrisdale\n",
       "1  4049               2226             2751                     746       \n",
       "2  3566               2286             3140                     954       \n",
       "3  3206               1867             2708                     944       \n",
       "4  2841               1855             2625                     747       \n",
       "5  2857               1566             2193                     560       \n",
       "6  2414               1457             2063                     435       \n",
       "7  2083               1385             1889                     508       \n",
       "8  2008               1251             1887                     444       \n",
       "9  1944               1313             1665                     480       \n",
       "10 1970               1345             1640                     611       \n",
       "11 2211               1140             2005                     420       \n",
       "12 2133               1183             2067                     486       \n",
       "13 2180               1292             1859                     550       \n",
       "14 2433               1400             1910                     546       \n",
       "15 2402               1436             1691                     473       \n",
       "16 2230               1506             1698                     506       \n",
       "17 2331               1621             1933                     521       \n",
       "18 1939               1287             1656                     460       \n",
       "19 1585               1172             1460                     436       \n",
       "   Killarney ... Renfrew-Collingwood Riley Park Shaughnessy South Cambie\n",
       "1  1101      ... 2823                1356       604         665         \n",
       "2  1341      ... 3221                1398       618         573         \n",
       "3  1283      ... 2827                1358       636         546         \n",
       "4  1148      ... 2871                1239       401         443         \n",
       "5   989      ... 2256                 939       415         368         \n",
       "6   728      ... 2184                 948       345         342         \n",
       "7   798      ... 1999                 869       272         397         \n",
       "8   729      ... 2086                 844       314         366         \n",
       "9   657      ... 1897                 858       408         333         \n",
       "10  796      ... 1911                 924       430         361         \n",
       "11  640      ... 1752                1037       331         340         \n",
       "12  722      ... 2011                 982       424         497         \n",
       "13  690      ... 1975                 984       437         483         \n",
       "14  627      ... 2088                1114       474         434         \n",
       "15  720      ... 2354                1008       490         400         \n",
       "16  684      ... 2123                1060       474         360         \n",
       "17  733      ... 2169                1204       380         496         \n",
       "18  589      ... 2187                 895       433         489         \n",
       "19  522      ... 2028                 739       316         361         \n",
       "   Stanley Park Strathcona Sunset Victoria-Fraserview West End West Point Grey\n",
       "1  516          3533       2254   1315                6196     672            \n",
       "2  478          3423       2170   1469                5470     783            \n",
       "3  446          3332       2003   1359                4700     734            \n",
       "4  415          2788       1969   1117                4704     573            \n",
       "5  288          2525       1759    905                4309     465            \n",
       "6  335          2493       1471    810                4191     390            \n",
       "7  316          2180       1336    796                3395     441            \n",
       "8  237          2133       1380    755                3197     429            \n",
       "9  231          2146       1101    810                2884     397            \n",
       "10 249          2216       1256    719                2850     403            \n",
       "11 338          2162       1135    731                3085     330            \n",
       "12 255          2457       1076    743                3392     439            \n",
       "13 269          2512       1042    731                3506     441            \n",
       "14 199          2918       1189    723                3946     457            \n",
       "15 210          2945       1037    802                3825     465            \n",
       "16 200          3100       1166    735                3874     420            \n",
       "17 239          3407       1296    763                4216     453            \n",
       "18  92          3089       1097    637                3117     468            \n",
       "19 127          2352        959    593                2815     347            "
      ]
     },
     "metadata": {},
     "output_type": "display_data"
    },
    {
     "name": "stderr",
     "output_type": "stream",
     "text": [
      "\u001b[1m\u001b[22m`summarise()` has grouped output by 'YEAR'. You can override using the\n",
      "`.groups` argument.\n"
     ]
    },
    {
     "data": {
      "text/html": [
       "<table class=\"dataframe\">\n",
       "<caption>A grouped_df: 19 × 12</caption>\n",
       "<thead>\n",
       "\t<tr><th scope=col>YEAR</th><th scope=col>Break and Enter Commercial</th><th scope=col>Break and Enter Residential/Other</th><th scope=col>Homicide</th><th scope=col>Mischief</th><th scope=col>Offence Against a Person</th><th scope=col>Other Theft</th><th scope=col>Theft from Vehicle</th><th scope=col>Theft of Bicycle</th><th scope=col>Theft of Vehicle</th><th scope=col>Vehicle Collision or Pedestrian Struck (with Fatality)</th><th scope=col>Vehicle Collision or Pedestrian Struck (with Injury)</th></tr>\n",
       "\t<tr><th scope=col>&lt;int&gt;</th><th scope=col>&lt;int&gt;</th><th scope=col>&lt;int&gt;</th><th scope=col>&lt;int&gt;</th><th scope=col>&lt;int&gt;</th><th scope=col>&lt;int&gt;</th><th scope=col>&lt;int&gt;</th><th scope=col>&lt;int&gt;</th><th scope=col>&lt;int&gt;</th><th scope=col>&lt;int&gt;</th><th scope=col>&lt;int&gt;</th><th scope=col>&lt;int&gt;</th></tr>\n",
       "</thead>\n",
       "<tbody>\n",
       "\t<tr><td>2003</td><td>3197</td><td>6884</td><td>18</td><td>6389</td><td>3507</td><td>11428</td><td>17744</td><td>1418</td><td>6361</td><td>25</td><td>1856</td></tr>\n",
       "\t<tr><td>2004</td><td>3282</td><td>6535</td><td>22</td><td>5598</td><td>3788</td><td>11441</td><td>18203</td><td>1230</td><td>6100</td><td>22</td><td>1892</td></tr>\n",
       "\t<tr><td>2005</td><td>2640</td><td>5540</td><td>22</td><td>5063</td><td>3764</td><td>11359</td><td>16555</td><td>1416</td><td>5030</td><td>33</td><td>2003</td></tr>\n",
       "\t<tr><td>2006</td><td>2845</td><td>5672</td><td>18</td><td>5180</td><td>4349</td><td>10302</td><td>14730</td><td>1467</td><td>3681</td><td>20</td><td>1388</td></tr>\n",
       "\t<tr><td>2007</td><td>2435</td><td>4997</td><td>19</td><td>4814</td><td>4410</td><td> 9725</td><td>12226</td><td>1203</td><td>3304</td><td>24</td><td>1239</td></tr>\n",
       "\t<tr><td>2008</td><td>2225</td><td>4432</td><td>18</td><td>5274</td><td>4218</td><td> 9468</td><td>11295</td><td>1176</td><td>2420</td><td>17</td><td>1186</td></tr>\n",
       "\t<tr><td>2009</td><td>1859</td><td>3497</td><td>18</td><td>4428</td><td>3900</td><td> 9472</td><td>10008</td><td>1641</td><td>1880</td><td>14</td><td>1278</td></tr>\n",
       "\t<tr><td>2010</td><td>1659</td><td>3266</td><td>10</td><td>4514</td><td>3768</td><td> 9367</td><td> 8614</td><td>1669</td><td>1466</td><td>10</td><td>1327</td></tr>\n",
       "\t<tr><td>2011</td><td>1752</td><td>3230</td><td>15</td><td>4842</td><td>3888</td><td> 9389</td><td> 7435</td><td>1517</td><td>1094</td><td>12</td><td>1261</td></tr>\n",
       "\t<tr><td>2012</td><td>1687</td><td>3312</td><td> 8</td><td>4236</td><td>3793</td><td> 9974</td><td> 8096</td><td>1817</td><td>1152</td><td>18</td><td>1477</td></tr>\n",
       "\t<tr><td>2013</td><td>1772</td><td>3026</td><td> 7</td><td>4190</td><td>3672</td><td>10286</td><td> 8336</td><td>2033</td><td>1033</td><td>15</td><td>1492</td></tr>\n",
       "\t<tr><td>2014</td><td>2242</td><td>3043</td><td> 9</td><td>4517</td><td>3150</td><td>10817</td><td>10141</td><td>2461</td><td>1291</td><td>13</td><td>1580</td></tr>\n",
       "\t<tr><td>2015</td><td>2456</td><td>3117</td><td>15</td><td>4185</td><td>3209</td><td>10615</td><td>10547</td><td>3064</td><td>1372</td><td>14</td><td>1671</td></tr>\n",
       "\t<tr><td>2016</td><td>2685</td><td>2991</td><td>12</td><td>4589</td><td>3189</td><td>12005</td><td>12815</td><td>2638</td><td>1480</td><td>15</td><td>1710</td></tr>\n",
       "\t<tr><td>2017</td><td>2192</td><td>2454</td><td>17</td><td>5371</td><td>3174</td><td>11809</td><td>12955</td><td>2202</td><td>1496</td><td>14</td><td>1526</td></tr>\n",
       "\t<tr><td>2018</td><td>2022</td><td>2393</td><td>15</td><td>5727</td><td>3087</td><td>11265</td><td>14996</td><td>2167</td><td>1147</td><td>13</td><td>1476</td></tr>\n",
       "\t<tr><td>2019</td><td>2492</td><td>2276</td><td>12</td><td>5865</td><td>3531</td><td>12373</td><td>17015</td><td>2221</td><td>1378</td><td>14</td><td>1138</td></tr>\n",
       "\t<tr><td>2020</td><td>2788</td><td>2082</td><td>19</td><td>6113</td><td>3721</td><td> 8648</td><td>10423</td><td>1987</td><td> 852</td><td> 7</td><td> 853</td></tr>\n",
       "\t<tr><td>2021</td><td>2077</td><td>1484</td><td>18</td><td>5388</td><td>3722</td><td> 8542</td><td> 7483</td><td>1451</td><td> 834</td><td>19</td><td>1021</td></tr>\n",
       "</tbody>\n",
       "</table>\n"
      ],
      "text/latex": [
       "A grouped\\_df: 19 × 12\n",
       "\\begin{tabular}{llllllllllll}\n",
       " YEAR & Break and Enter Commercial & Break and Enter Residential/Other & Homicide & Mischief & Offence Against a Person & Other Theft & Theft from Vehicle & Theft of Bicycle & Theft of Vehicle & Vehicle Collision or Pedestrian Struck (with Fatality) & Vehicle Collision or Pedestrian Struck (with Injury)\\\\\n",
       " <int> & <int> & <int> & <int> & <int> & <int> & <int> & <int> & <int> & <int> & <int> & <int>\\\\\n",
       "\\hline\n",
       "\t 2003 & 3197 & 6884 & 18 & 6389 & 3507 & 11428 & 17744 & 1418 & 6361 & 25 & 1856\\\\\n",
       "\t 2004 & 3282 & 6535 & 22 & 5598 & 3788 & 11441 & 18203 & 1230 & 6100 & 22 & 1892\\\\\n",
       "\t 2005 & 2640 & 5540 & 22 & 5063 & 3764 & 11359 & 16555 & 1416 & 5030 & 33 & 2003\\\\\n",
       "\t 2006 & 2845 & 5672 & 18 & 5180 & 4349 & 10302 & 14730 & 1467 & 3681 & 20 & 1388\\\\\n",
       "\t 2007 & 2435 & 4997 & 19 & 4814 & 4410 &  9725 & 12226 & 1203 & 3304 & 24 & 1239\\\\\n",
       "\t 2008 & 2225 & 4432 & 18 & 5274 & 4218 &  9468 & 11295 & 1176 & 2420 & 17 & 1186\\\\\n",
       "\t 2009 & 1859 & 3497 & 18 & 4428 & 3900 &  9472 & 10008 & 1641 & 1880 & 14 & 1278\\\\\n",
       "\t 2010 & 1659 & 3266 & 10 & 4514 & 3768 &  9367 &  8614 & 1669 & 1466 & 10 & 1327\\\\\n",
       "\t 2011 & 1752 & 3230 & 15 & 4842 & 3888 &  9389 &  7435 & 1517 & 1094 & 12 & 1261\\\\\n",
       "\t 2012 & 1687 & 3312 &  8 & 4236 & 3793 &  9974 &  8096 & 1817 & 1152 & 18 & 1477\\\\\n",
       "\t 2013 & 1772 & 3026 &  7 & 4190 & 3672 & 10286 &  8336 & 2033 & 1033 & 15 & 1492\\\\\n",
       "\t 2014 & 2242 & 3043 &  9 & 4517 & 3150 & 10817 & 10141 & 2461 & 1291 & 13 & 1580\\\\\n",
       "\t 2015 & 2456 & 3117 & 15 & 4185 & 3209 & 10615 & 10547 & 3064 & 1372 & 14 & 1671\\\\\n",
       "\t 2016 & 2685 & 2991 & 12 & 4589 & 3189 & 12005 & 12815 & 2638 & 1480 & 15 & 1710\\\\\n",
       "\t 2017 & 2192 & 2454 & 17 & 5371 & 3174 & 11809 & 12955 & 2202 & 1496 & 14 & 1526\\\\\n",
       "\t 2018 & 2022 & 2393 & 15 & 5727 & 3087 & 11265 & 14996 & 2167 & 1147 & 13 & 1476\\\\\n",
       "\t 2019 & 2492 & 2276 & 12 & 5865 & 3531 & 12373 & 17015 & 2221 & 1378 & 14 & 1138\\\\\n",
       "\t 2020 & 2788 & 2082 & 19 & 6113 & 3721 &  8648 & 10423 & 1987 &  852 &  7 &  853\\\\\n",
       "\t 2021 & 2077 & 1484 & 18 & 5388 & 3722 &  8542 &  7483 & 1451 &  834 & 19 & 1021\\\\\n",
       "\\end{tabular}\n"
      ],
      "text/markdown": [
       "\n",
       "A grouped_df: 19 × 12\n",
       "\n",
       "| YEAR &lt;int&gt; | Break and Enter Commercial &lt;int&gt; | Break and Enter Residential/Other &lt;int&gt; | Homicide &lt;int&gt; | Mischief &lt;int&gt; | Offence Against a Person &lt;int&gt; | Other Theft &lt;int&gt; | Theft from Vehicle &lt;int&gt; | Theft of Bicycle &lt;int&gt; | Theft of Vehicle &lt;int&gt; | Vehicle Collision or Pedestrian Struck (with Fatality) &lt;int&gt; | Vehicle Collision or Pedestrian Struck (with Injury) &lt;int&gt; |\n",
       "|---|---|---|---|---|---|---|---|---|---|---|---|\n",
       "| 2003 | 3197 | 6884 | 18 | 6389 | 3507 | 11428 | 17744 | 1418 | 6361 | 25 | 1856 |\n",
       "| 2004 | 3282 | 6535 | 22 | 5598 | 3788 | 11441 | 18203 | 1230 | 6100 | 22 | 1892 |\n",
       "| 2005 | 2640 | 5540 | 22 | 5063 | 3764 | 11359 | 16555 | 1416 | 5030 | 33 | 2003 |\n",
       "| 2006 | 2845 | 5672 | 18 | 5180 | 4349 | 10302 | 14730 | 1467 | 3681 | 20 | 1388 |\n",
       "| 2007 | 2435 | 4997 | 19 | 4814 | 4410 |  9725 | 12226 | 1203 | 3304 | 24 | 1239 |\n",
       "| 2008 | 2225 | 4432 | 18 | 5274 | 4218 |  9468 | 11295 | 1176 | 2420 | 17 | 1186 |\n",
       "| 2009 | 1859 | 3497 | 18 | 4428 | 3900 |  9472 | 10008 | 1641 | 1880 | 14 | 1278 |\n",
       "| 2010 | 1659 | 3266 | 10 | 4514 | 3768 |  9367 |  8614 | 1669 | 1466 | 10 | 1327 |\n",
       "| 2011 | 1752 | 3230 | 15 | 4842 | 3888 |  9389 |  7435 | 1517 | 1094 | 12 | 1261 |\n",
       "| 2012 | 1687 | 3312 |  8 | 4236 | 3793 |  9974 |  8096 | 1817 | 1152 | 18 | 1477 |\n",
       "| 2013 | 1772 | 3026 |  7 | 4190 | 3672 | 10286 |  8336 | 2033 | 1033 | 15 | 1492 |\n",
       "| 2014 | 2242 | 3043 |  9 | 4517 | 3150 | 10817 | 10141 | 2461 | 1291 | 13 | 1580 |\n",
       "| 2015 | 2456 | 3117 | 15 | 4185 | 3209 | 10615 | 10547 | 3064 | 1372 | 14 | 1671 |\n",
       "| 2016 | 2685 | 2991 | 12 | 4589 | 3189 | 12005 | 12815 | 2638 | 1480 | 15 | 1710 |\n",
       "| 2017 | 2192 | 2454 | 17 | 5371 | 3174 | 11809 | 12955 | 2202 | 1496 | 14 | 1526 |\n",
       "| 2018 | 2022 | 2393 | 15 | 5727 | 3087 | 11265 | 14996 | 2167 | 1147 | 13 | 1476 |\n",
       "| 2019 | 2492 | 2276 | 12 | 5865 | 3531 | 12373 | 17015 | 2221 | 1378 | 14 | 1138 |\n",
       "| 2020 | 2788 | 2082 | 19 | 6113 | 3721 |  8648 | 10423 | 1987 |  852 |  7 |  853 |\n",
       "| 2021 | 2077 | 1484 | 18 | 5388 | 3722 |  8542 |  7483 | 1451 |  834 | 19 | 1021 |\n",
       "\n"
      ],
      "text/plain": [
       "   YEAR Break and Enter Commercial Break and Enter Residential/Other Homicide\n",
       "1  2003 3197                       6884                              18      \n",
       "2  2004 3282                       6535                              22      \n",
       "3  2005 2640                       5540                              22      \n",
       "4  2006 2845                       5672                              18      \n",
       "5  2007 2435                       4997                              19      \n",
       "6  2008 2225                       4432                              18      \n",
       "7  2009 1859                       3497                              18      \n",
       "8  2010 1659                       3266                              10      \n",
       "9  2011 1752                       3230                              15      \n",
       "10 2012 1687                       3312                               8      \n",
       "11 2013 1772                       3026                               7      \n",
       "12 2014 2242                       3043                               9      \n",
       "13 2015 2456                       3117                              15      \n",
       "14 2016 2685                       2991                              12      \n",
       "15 2017 2192                       2454                              17      \n",
       "16 2018 2022                       2393                              15      \n",
       "17 2019 2492                       2276                              12      \n",
       "18 2020 2788                       2082                              19      \n",
       "19 2021 2077                       1484                              18      \n",
       "   Mischief Offence Against a Person Other Theft Theft from Vehicle\n",
       "1  6389     3507                     11428       17744             \n",
       "2  5598     3788                     11441       18203             \n",
       "3  5063     3764                     11359       16555             \n",
       "4  5180     4349                     10302       14730             \n",
       "5  4814     4410                      9725       12226             \n",
       "6  5274     4218                      9468       11295             \n",
       "7  4428     3900                      9472       10008             \n",
       "8  4514     3768                      9367        8614             \n",
       "9  4842     3888                      9389        7435             \n",
       "10 4236     3793                      9974        8096             \n",
       "11 4190     3672                     10286        8336             \n",
       "12 4517     3150                     10817       10141             \n",
       "13 4185     3209                     10615       10547             \n",
       "14 4589     3189                     12005       12815             \n",
       "15 5371     3174                     11809       12955             \n",
       "16 5727     3087                     11265       14996             \n",
       "17 5865     3531                     12373       17015             \n",
       "18 6113     3721                      8648       10423             \n",
       "19 5388     3722                      8542        7483             \n",
       "   Theft of Bicycle Theft of Vehicle\n",
       "1  1418             6361            \n",
       "2  1230             6100            \n",
       "3  1416             5030            \n",
       "4  1467             3681            \n",
       "5  1203             3304            \n",
       "6  1176             2420            \n",
       "7  1641             1880            \n",
       "8  1669             1466            \n",
       "9  1517             1094            \n",
       "10 1817             1152            \n",
       "11 2033             1033            \n",
       "12 2461             1291            \n",
       "13 3064             1372            \n",
       "14 2638             1480            \n",
       "15 2202             1496            \n",
       "16 2167             1147            \n",
       "17 2221             1378            \n",
       "18 1987              852            \n",
       "19 1451              834            \n",
       "   Vehicle Collision or Pedestrian Struck (with Fatality)\n",
       "1  25                                                    \n",
       "2  22                                                    \n",
       "3  33                                                    \n",
       "4  20                                                    \n",
       "5  24                                                    \n",
       "6  17                                                    \n",
       "7  14                                                    \n",
       "8  10                                                    \n",
       "9  12                                                    \n",
       "10 18                                                    \n",
       "11 15                                                    \n",
       "12 13                                                    \n",
       "13 14                                                    \n",
       "14 15                                                    \n",
       "15 14                                                    \n",
       "16 13                                                    \n",
       "17 14                                                    \n",
       "18  7                                                    \n",
       "19 19                                                    \n",
       "   Vehicle Collision or Pedestrian Struck (with Injury)\n",
       "1  1856                                                \n",
       "2  1892                                                \n",
       "3  2003                                                \n",
       "4  1388                                                \n",
       "5  1239                                                \n",
       "6  1186                                                \n",
       "7  1278                                                \n",
       "8  1327                                                \n",
       "9  1261                                                \n",
       "10 1477                                                \n",
       "11 1492                                                \n",
       "12 1580                                                \n",
       "13 1671                                                \n",
       "14 1710                                                \n",
       "15 1526                                                \n",
       "16 1476                                                \n",
       "17 1138                                                \n",
       "18  853                                                \n",
       "19 1021                                                "
      ]
     },
     "metadata": {},
     "output_type": "display_data"
    },
    {
     "data": {
      "text/html": [
       "<table class=\"dataframe\">\n",
       "<caption>A tibble: 25 × 8</caption>\n",
       "<thead>\n",
       "\t<tr><th scope=col>skim_variable</th><th scope=col>n_missing</th><th scope=col>complete_rate</th><th scope=col>numeric.median</th><th scope=col>numeric.mean</th><th scope=col>numeric.sd</th><th scope=col>numeric.min</th><th scope=col>numeric.max</th></tr>\n",
       "\t<tr><th scope=col>&lt;chr&gt;</th><th scope=col>&lt;int&gt;</th><th scope=col>&lt;dbl&gt;</th><th scope=col>&lt;int&gt;</th><th scope=col>&lt;dbl&gt;</th><th scope=col>&lt;dbl&gt;</th><th scope=col>&lt;int&gt;</th><th scope=col>&lt;int&gt;</th></tr>\n",
       "</thead>\n",
       "<tbody>\n",
       "\t<tr><td>Arbutus Ridge            </td><td>0</td><td>1</td><td>  430</td><td>  463.789474</td><td> 134.101363</td><td> 285</td><td>  755</td></tr>\n",
       "\t<tr><td>Central Business District</td><td>0</td><td>1</td><td>11265</td><td>11386.105263</td><td>1985.229875</td><td>8846</td><td>16063</td></tr>\n",
       "\t<tr><td>Dunbar-Southlands        </td><td>0</td><td>1</td><td>  519</td><td>  569.526316</td><td> 170.195759</td><td> 329</td><td> 1047</td></tr>\n",
       "\t<tr><td>Fairview                 </td><td>0</td><td>1</td><td> 2468</td><td> 2665.842105</td><td> 734.762037</td><td>1589</td><td> 4392</td></tr>\n",
       "\t<tr><td>Grandview-Woodland       </td><td>0</td><td>1</td><td> 2230</td><td> 2441.157895</td><td> 615.252095</td><td>1585</td><td> 4049</td></tr>\n",
       "\t<tr><td>Hastings-Sunrise         </td><td>0</td><td>1</td><td> 1400</td><td> 1504.631579</td><td> 333.390197</td><td>1140</td><td> 2286</td></tr>\n",
       "\t<tr><td>Kensington-Cedar Cottage </td><td>0</td><td>1</td><td> 1910</td><td> 2044.210526</td><td> 450.930591</td><td>1460</td><td> 3140</td></tr>\n",
       "\t<tr><td>Kerrisdale               </td><td>0</td><td>1</td><td>  508</td><td>  569.842105</td><td> 162.268044</td><td> 420</td><td>  954</td></tr>\n",
       "\t<tr><td>Killarney                </td><td>0</td><td>1</td><td>  728</td><td>  815.631579</td><td> 237.967134</td><td> 522</td><td> 1341</td></tr>\n",
       "\t<tr><td>Kitsilano                </td><td>0</td><td>1</td><td> 1957</td><td> 2138.736842</td><td> 606.743570</td><td>1354</td><td> 3559</td></tr>\n",
       "\t<tr><td>Marpole                  </td><td>0</td><td>1</td><td> 1016</td><td> 1072.105263</td><td> 249.022287</td><td> 770</td><td> 1633</td></tr>\n",
       "\t<tr><td>Mount Pleasant           </td><td>0</td><td>1</td><td> 2802</td><td> 2695.368421</td><td> 408.715088</td><td>2027</td><td> 3437</td></tr>\n",
       "\t<tr><td>Musqueam                 </td><td>0</td><td>1</td><td>   41</td><td>   50.210526</td><td>  20.834211</td><td>  28</td><td>  102</td></tr>\n",
       "\t<tr><td>Neighbourhood Missing    </td><td>0</td><td>1</td><td>    4</td><td>    7.105263</td><td>   8.588718</td><td>   1</td><td>   35</td></tr>\n",
       "\t<tr><td>Oakridge                 </td><td>0</td><td>1</td><td>  665</td><td>  659.105263</td><td> 132.932270</td><td> 353</td><td>  902</td></tr>\n",
       "\t<tr><td>Renfrew-Collingwood      </td><td>0</td><td>1</td><td> 2123</td><td> 2250.631579</td><td> 395.622184</td><td>1752</td><td> 3221</td></tr>\n",
       "\t<tr><td>Riley Park               </td><td>0</td><td>1</td><td>  984</td><td> 1039.789474</td><td> 190.551416</td><td> 739</td><td> 1398</td></tr>\n",
       "\t<tr><td>Shaughnessy              </td><td>0</td><td>1</td><td>  424</td><td>  431.684211</td><td> 102.214400</td><td> 272</td><td>  636</td></tr>\n",
       "\t<tr><td>South Cambie             </td><td>0</td><td>1</td><td>  400</td><td>  434.421053</td><td>  92.400887</td><td> 333</td><td>  665</td></tr>\n",
       "\t<tr><td>Stanley Park             </td><td>0</td><td>1</td><td>  255</td><td>  286.315789</td><td> 113.510671</td><td>  92</td><td>  516</td></tr>\n",
       "\t<tr><td>Strathcona               </td><td>0</td><td>1</td><td> 2525</td><td> 2721.631579</td><td> 485.631915</td><td>2133</td><td> 3533</td></tr>\n",
       "\t<tr><td>Sunset                   </td><td>0</td><td>1</td><td> 1256</td><td> 1405.052632</td><td> 414.271311</td><td> 959</td><td> 2254</td></tr>\n",
       "\t<tr><td>Victoria-Fraserview      </td><td>0</td><td>1</td><td>  763</td><td>  869.105263</td><td> 252.604631</td><td> 593</td><td> 1469</td></tr>\n",
       "\t<tr><td>West End                 </td><td>0</td><td>1</td><td> 3825</td><td> 3877.473684</td><td> 916.677416</td><td>2815</td><td> 6196</td></tr>\n",
       "\t<tr><td>West Point Grey          </td><td>0</td><td>1</td><td>  441</td><td>  479.315789</td><td> 123.763238</td><td> 330</td><td>  783</td></tr>\n",
       "</tbody>\n",
       "</table>\n"
      ],
      "text/latex": [
       "A tibble: 25 × 8\n",
       "\\begin{tabular}{llllllll}\n",
       " skim\\_variable & n\\_missing & complete\\_rate & numeric.median & numeric.mean & numeric.sd & numeric.min & numeric.max\\\\\n",
       " <chr> & <int> & <dbl> & <int> & <dbl> & <dbl> & <int> & <int>\\\\\n",
       "\\hline\n",
       "\t Arbutus Ridge             & 0 & 1 &   430 &   463.789474 &  134.101363 &  285 &   755\\\\\n",
       "\t Central Business District & 0 & 1 & 11265 & 11386.105263 & 1985.229875 & 8846 & 16063\\\\\n",
       "\t Dunbar-Southlands         & 0 & 1 &   519 &   569.526316 &  170.195759 &  329 &  1047\\\\\n",
       "\t Fairview                  & 0 & 1 &  2468 &  2665.842105 &  734.762037 & 1589 &  4392\\\\\n",
       "\t Grandview-Woodland        & 0 & 1 &  2230 &  2441.157895 &  615.252095 & 1585 &  4049\\\\\n",
       "\t Hastings-Sunrise          & 0 & 1 &  1400 &  1504.631579 &  333.390197 & 1140 &  2286\\\\\n",
       "\t Kensington-Cedar Cottage  & 0 & 1 &  1910 &  2044.210526 &  450.930591 & 1460 &  3140\\\\\n",
       "\t Kerrisdale                & 0 & 1 &   508 &   569.842105 &  162.268044 &  420 &   954\\\\\n",
       "\t Killarney                 & 0 & 1 &   728 &   815.631579 &  237.967134 &  522 &  1341\\\\\n",
       "\t Kitsilano                 & 0 & 1 &  1957 &  2138.736842 &  606.743570 & 1354 &  3559\\\\\n",
       "\t Marpole                   & 0 & 1 &  1016 &  1072.105263 &  249.022287 &  770 &  1633\\\\\n",
       "\t Mount Pleasant            & 0 & 1 &  2802 &  2695.368421 &  408.715088 & 2027 &  3437\\\\\n",
       "\t Musqueam                  & 0 & 1 &    41 &    50.210526 &   20.834211 &   28 &   102\\\\\n",
       "\t Neighbourhood Missing     & 0 & 1 &     4 &     7.105263 &    8.588718 &    1 &    35\\\\\n",
       "\t Oakridge                  & 0 & 1 &   665 &   659.105263 &  132.932270 &  353 &   902\\\\\n",
       "\t Renfrew-Collingwood       & 0 & 1 &  2123 &  2250.631579 &  395.622184 & 1752 &  3221\\\\\n",
       "\t Riley Park                & 0 & 1 &   984 &  1039.789474 &  190.551416 &  739 &  1398\\\\\n",
       "\t Shaughnessy               & 0 & 1 &   424 &   431.684211 &  102.214400 &  272 &   636\\\\\n",
       "\t South Cambie              & 0 & 1 &   400 &   434.421053 &   92.400887 &  333 &   665\\\\\n",
       "\t Stanley Park              & 0 & 1 &   255 &   286.315789 &  113.510671 &   92 &   516\\\\\n",
       "\t Strathcona                & 0 & 1 &  2525 &  2721.631579 &  485.631915 & 2133 &  3533\\\\\n",
       "\t Sunset                    & 0 & 1 &  1256 &  1405.052632 &  414.271311 &  959 &  2254\\\\\n",
       "\t Victoria-Fraserview       & 0 & 1 &   763 &   869.105263 &  252.604631 &  593 &  1469\\\\\n",
       "\t West End                  & 0 & 1 &  3825 &  3877.473684 &  916.677416 & 2815 &  6196\\\\\n",
       "\t West Point Grey           & 0 & 1 &   441 &   479.315789 &  123.763238 &  330 &   783\\\\\n",
       "\\end{tabular}\n"
      ],
      "text/markdown": [
       "\n",
       "A tibble: 25 × 8\n",
       "\n",
       "| skim_variable &lt;chr&gt; | n_missing &lt;int&gt; | complete_rate &lt;dbl&gt; | numeric.median &lt;int&gt; | numeric.mean &lt;dbl&gt; | numeric.sd &lt;dbl&gt; | numeric.min &lt;int&gt; | numeric.max &lt;int&gt; |\n",
       "|---|---|---|---|---|---|---|---|\n",
       "| Arbutus Ridge             | 0 | 1 |   430 |   463.789474 |  134.101363 |  285 |   755 |\n",
       "| Central Business District | 0 | 1 | 11265 | 11386.105263 | 1985.229875 | 8846 | 16063 |\n",
       "| Dunbar-Southlands         | 0 | 1 |   519 |   569.526316 |  170.195759 |  329 |  1047 |\n",
       "| Fairview                  | 0 | 1 |  2468 |  2665.842105 |  734.762037 | 1589 |  4392 |\n",
       "| Grandview-Woodland        | 0 | 1 |  2230 |  2441.157895 |  615.252095 | 1585 |  4049 |\n",
       "| Hastings-Sunrise          | 0 | 1 |  1400 |  1504.631579 |  333.390197 | 1140 |  2286 |\n",
       "| Kensington-Cedar Cottage  | 0 | 1 |  1910 |  2044.210526 |  450.930591 | 1460 |  3140 |\n",
       "| Kerrisdale                | 0 | 1 |   508 |   569.842105 |  162.268044 |  420 |   954 |\n",
       "| Killarney                 | 0 | 1 |   728 |   815.631579 |  237.967134 |  522 |  1341 |\n",
       "| Kitsilano                 | 0 | 1 |  1957 |  2138.736842 |  606.743570 | 1354 |  3559 |\n",
       "| Marpole                   | 0 | 1 |  1016 |  1072.105263 |  249.022287 |  770 |  1633 |\n",
       "| Mount Pleasant            | 0 | 1 |  2802 |  2695.368421 |  408.715088 | 2027 |  3437 |\n",
       "| Musqueam                  | 0 | 1 |    41 |    50.210526 |   20.834211 |   28 |   102 |\n",
       "| Neighbourhood Missing     | 0 | 1 |     4 |     7.105263 |    8.588718 |    1 |    35 |\n",
       "| Oakridge                  | 0 | 1 |   665 |   659.105263 |  132.932270 |  353 |   902 |\n",
       "| Renfrew-Collingwood       | 0 | 1 |  2123 |  2250.631579 |  395.622184 | 1752 |  3221 |\n",
       "| Riley Park                | 0 | 1 |   984 |  1039.789474 |  190.551416 |  739 |  1398 |\n",
       "| Shaughnessy               | 0 | 1 |   424 |   431.684211 |  102.214400 |  272 |   636 |\n",
       "| South Cambie              | 0 | 1 |   400 |   434.421053 |   92.400887 |  333 |   665 |\n",
       "| Stanley Park              | 0 | 1 |   255 |   286.315789 |  113.510671 |   92 |   516 |\n",
       "| Strathcona                | 0 | 1 |  2525 |  2721.631579 |  485.631915 | 2133 |  3533 |\n",
       "| Sunset                    | 0 | 1 |  1256 |  1405.052632 |  414.271311 |  959 |  2254 |\n",
       "| Victoria-Fraserview       | 0 | 1 |   763 |   869.105263 |  252.604631 |  593 |  1469 |\n",
       "| West End                  | 0 | 1 |  3825 |  3877.473684 |  916.677416 | 2815 |  6196 |\n",
       "| West Point Grey           | 0 | 1 |   441 |   479.315789 |  123.763238 |  330 |   783 |\n",
       "\n"
      ],
      "text/plain": [
       "   skim_variable             n_missing complete_rate numeric.median\n",
       "1  Arbutus Ridge             0         1               430         \n",
       "2  Central Business District 0         1             11265         \n",
       "3  Dunbar-Southlands         0         1               519         \n",
       "4  Fairview                  0         1              2468         \n",
       "5  Grandview-Woodland        0         1              2230         \n",
       "6  Hastings-Sunrise          0         1              1400         \n",
       "7  Kensington-Cedar Cottage  0         1              1910         \n",
       "8  Kerrisdale                0         1               508         \n",
       "9  Killarney                 0         1               728         \n",
       "10 Kitsilano                 0         1              1957         \n",
       "11 Marpole                   0         1              1016         \n",
       "12 Mount Pleasant            0         1              2802         \n",
       "13 Musqueam                  0         1                41         \n",
       "14 Neighbourhood Missing     0         1                 4         \n",
       "15 Oakridge                  0         1               665         \n",
       "16 Renfrew-Collingwood       0         1              2123         \n",
       "17 Riley Park                0         1               984         \n",
       "18 Shaughnessy               0         1               424         \n",
       "19 South Cambie              0         1               400         \n",
       "20 Stanley Park              0         1               255         \n",
       "21 Strathcona                0         1              2525         \n",
       "22 Sunset                    0         1              1256         \n",
       "23 Victoria-Fraserview       0         1               763         \n",
       "24 West End                  0         1              3825         \n",
       "25 West Point Grey           0         1               441         \n",
       "   numeric.mean numeric.sd  numeric.min numeric.max\n",
       "1    463.789474  134.101363  285          755      \n",
       "2  11386.105263 1985.229875 8846        16063      \n",
       "3    569.526316  170.195759  329         1047      \n",
       "4   2665.842105  734.762037 1589         4392      \n",
       "5   2441.157895  615.252095 1585         4049      \n",
       "6   1504.631579  333.390197 1140         2286      \n",
       "7   2044.210526  450.930591 1460         3140      \n",
       "8    569.842105  162.268044  420          954      \n",
       "9    815.631579  237.967134  522         1341      \n",
       "10  2138.736842  606.743570 1354         3559      \n",
       "11  1072.105263  249.022287  770         1633      \n",
       "12  2695.368421  408.715088 2027         3437      \n",
       "13    50.210526   20.834211   28          102      \n",
       "14     7.105263    8.588718    1           35      \n",
       "15   659.105263  132.932270  353          902      \n",
       "16  2250.631579  395.622184 1752         3221      \n",
       "17  1039.789474  190.551416  739         1398      \n",
       "18   431.684211  102.214400  272          636      \n",
       "19   434.421053   92.400887  333          665      \n",
       "20   286.315789  113.510671   92          516      \n",
       "21  2721.631579  485.631915 2133         3533      \n",
       "22  1405.052632  414.271311  959         2254      \n",
       "23   869.105263  252.604631  593         1469      \n",
       "24  3877.473684  916.677416 2815         6196      \n",
       "25   479.315789  123.763238  330          783      "
      ]
     },
     "metadata": {},
     "output_type": "display_data"
    }
   ],
   "source": [
    "crime_data_tidy <- pivot_wider(neighbourhood_year_grouped,\n",
    "  names_from = NEIGHBOURHOOD,\n",
    "  values_from = Count\n",
    ")\n",
    "crime_data_tidy\n",
    "\n",
    "type_year_grouped <- vancouver_crime %>%\n",
    "group_by(YEAR,TYPE) %>%\n",
    "summarise(Count = n())\n",
    "\n",
    "crime_data_tidy_2 <- pivot_wider(type_year_grouped,\n",
    "  names_from = TYPE,\n",
    "  values_from = Count\n",
    ")\n",
    "crime_data_tidy_2\n",
    "\n",
    "\n",
    "my_skim <- skim_with(numeric = sfl(median, mean,  sd, min, max),\n",
    "                                   append = FALSE)\n",
    "\n",
    "# Creating summary table\n",
    "summary_df <- my_skim(crime_data_tidy) %>% \n",
    "    tibble::as_tibble() %>% \n",
    "    select(skim_variable:numeric.max)\n",
    "\n",
    "summary_df <- summary_df[-1,]\n",
    "summary_df"
   ]
  },
  {
   "cell_type": "markdown",
   "metadata": {},
   "source": [
    "Visualizing Data "
   ]
  },
  {
   "cell_type": "code",
   "execution_count": 30,
   "metadata": {},
   "outputs": [
    {
     "name": "stderr",
     "output_type": "stream",
     "text": [
      "\u001b[1m\u001b[22m`summarise()` has grouped output by 'YEAR'. You can override using the\n",
      "`.groups` argument.\n"
     ]
    },
    {
     "data": {
      "image/png": "[encoded data removed]",
      "text/plain": [
       "plot without title"
      ]
     },
     "metadata": {
      "image/png": {
       "height": 420,
       "width": 420
      }
     },
     "output_type": "display_data"
    }
   ],
   "source": [
    "compare_crime <- vancouver_crime %>%\n",
    "filter(NEIGHBOURHOOD == \"West End\" | NEIGHBOURHOOD == \"West Point Grey\") %>%\n",
    "group_by(YEAR, NEIGHBOURHOOD) %>%\n",
    "summarise(Count = n())\n",
    "\n",
    "\n",
    "\n",
    "plot_1 <- compare_crime %>%\n",
    "ggplot(aes(x = YEAR, y = Count, fill = NEIGHBOURHOOD)) +\n",
    "geom_bar(stat = \"identity\", position = \"dodge\") +\n",
    "labs(x = \"Years\", title = \"Crime in the two neighbourhoods in the past 19 years\")\n",
    "\n",
    "plot_1"
   ]
  },
  {
   "cell_type": "markdown",
   "metadata": {},
   "source": [
    "Null Hypothesis "
   ]
  },
  {
   "cell_type": "code",
   "execution_count": 27,
   "metadata": {},
   "outputs": [
    {
     "data": {
      "text/html": [
       "<table class=\"dataframe\">\n",
       "<caption>A grouped_df: 19 × 3</caption>\n",
       "<thead>\n",
       "\t<tr><th scope=col>NEIGHBOURHOOD</th><th scope=col>YEAR</th><th scope=col>Count</th></tr>\n",
       "\t<tr><th scope=col>&lt;chr&gt;</th><th scope=col>&lt;int&gt;</th><th scope=col>&lt;int&gt;</th></tr>\n",
       "</thead>\n",
       "<tbody>\n",
       "\t<tr><td>West End</td><td>2003</td><td>6196</td></tr>\n",
       "\t<tr><td>West End</td><td>2004</td><td>5470</td></tr>\n",
       "\t<tr><td>West End</td><td>2005</td><td>4700</td></tr>\n",
       "\t<tr><td>West End</td><td>2006</td><td>4704</td></tr>\n",
       "\t<tr><td>West End</td><td>2007</td><td>4309</td></tr>\n",
       "\t<tr><td>West End</td><td>2008</td><td>4191</td></tr>\n",
       "\t<tr><td>West End</td><td>2009</td><td>3395</td></tr>\n",
       "\t<tr><td>West End</td><td>2010</td><td>3197</td></tr>\n",
       "\t<tr><td>West End</td><td>2011</td><td>2884</td></tr>\n",
       "\t<tr><td>West End</td><td>2012</td><td>2850</td></tr>\n",
       "\t<tr><td>West End</td><td>2013</td><td>3085</td></tr>\n",
       "\t<tr><td>West End</td><td>2014</td><td>3392</td></tr>\n",
       "\t<tr><td>West End</td><td>2015</td><td>3506</td></tr>\n",
       "\t<tr><td>West End</td><td>2016</td><td>3946</td></tr>\n",
       "\t<tr><td>West End</td><td>2017</td><td>3825</td></tr>\n",
       "\t<tr><td>West End</td><td>2018</td><td>3874</td></tr>\n",
       "\t<tr><td>West End</td><td>2019</td><td>4216</td></tr>\n",
       "\t<tr><td>West End</td><td>2020</td><td>3117</td></tr>\n",
       "\t<tr><td>West End</td><td>2021</td><td>2815</td></tr>\n",
       "</tbody>\n",
       "</table>\n"
      ],
      "text/latex": [
       "A grouped\\_df: 19 × 3\n",
       "\\begin{tabular}{lll}\n",
       " NEIGHBOURHOOD & YEAR & Count\\\\\n",
       " <chr> & <int> & <int>\\\\\n",
       "\\hline\n",
       "\t West End & 2003 & 6196\\\\\n",
       "\t West End & 2004 & 5470\\\\\n",
       "\t West End & 2005 & 4700\\\\\n",
       "\t West End & 2006 & 4704\\\\\n",
       "\t West End & 2007 & 4309\\\\\n",
       "\t West End & 2008 & 4191\\\\\n",
       "\t West End & 2009 & 3395\\\\\n",
       "\t West End & 2010 & 3197\\\\\n",
       "\t West End & 2011 & 2884\\\\\n",
       "\t West End & 2012 & 2850\\\\\n",
       "\t West End & 2013 & 3085\\\\\n",
       "\t West End & 2014 & 3392\\\\\n",
       "\t West End & 2015 & 3506\\\\\n",
       "\t West End & 2016 & 3946\\\\\n",
       "\t West End & 2017 & 3825\\\\\n",
       "\t West End & 2018 & 3874\\\\\n",
       "\t West End & 2019 & 4216\\\\\n",
       "\t West End & 2020 & 3117\\\\\n",
       "\t West End & 2021 & 2815\\\\\n",
       "\\end{tabular}\n"
      ],
      "text/markdown": [
       "\n",
       "A grouped_df: 19 × 3\n",
       "\n",
       "| NEIGHBOURHOOD &lt;chr&gt; | YEAR &lt;int&gt; | Count &lt;int&gt; |\n",
       "|---|---|---|\n",
       "| West End | 2003 | 6196 |\n",
       "| West End | 2004 | 5470 |\n",
       "| West End | 2005 | 4700 |\n",
       "| West End | 2006 | 4704 |\n",
       "| West End | 2007 | 4309 |\n",
       "| West End | 2008 | 4191 |\n",
       "| West End | 2009 | 3395 |\n",
       "| West End | 2010 | 3197 |\n",
       "| West End | 2011 | 2884 |\n",
       "| West End | 2012 | 2850 |\n",
       "| West End | 2013 | 3085 |\n",
       "| West End | 2014 | 3392 |\n",
       "| West End | 2015 | 3506 |\n",
       "| West End | 2016 | 3946 |\n",
       "| West End | 2017 | 3825 |\n",
       "| West End | 2018 | 3874 |\n",
       "| West End | 2019 | 4216 |\n",
       "| West End | 2020 | 3117 |\n",
       "| West End | 2021 | 2815 |\n",
       "\n"
      ],
      "text/plain": [
       "   NEIGHBOURHOOD YEAR Count\n",
       "1  West End      2003 6196 \n",
       "2  West End      2004 5470 \n",
       "3  West End      2005 4700 \n",
       "4  West End      2006 4704 \n",
       "5  West End      2007 4309 \n",
       "6  West End      2008 4191 \n",
       "7  West End      2009 3395 \n",
       "8  West End      2010 3197 \n",
       "9  West End      2011 2884 \n",
       "10 West End      2012 2850 \n",
       "11 West End      2013 3085 \n",
       "12 West End      2014 3392 \n",
       "13 West End      2015 3506 \n",
       "14 West End      2016 3946 \n",
       "15 West End      2017 3825 \n",
       "16 West End      2018 3874 \n",
       "17 West End      2019 4216 \n",
       "18 West End      2020 3117 \n",
       "19 West End      2021 2815 "
      ]
     },
     "metadata": {},
     "output_type": "display_data"
    },
    {
     "name": "stderr",
     "output_type": "stream",
     "text": [
      "Setting `type = \"bootstrap\"` in `generate()`.\n",
      "\n"
     ]
    },
    {
     "data": {
      "text/html": [
       "<table class=\"dataframe\">\n",
       "<caption>A infer: 1 × 1</caption>\n",
       "<thead>\n",
       "\t<tr><th scope=col>stat</th></tr>\n",
       "\t<tr><th scope=col>&lt;dbl&gt;</th></tr>\n",
       "</thead>\n",
       "<tbody>\n",
       "\t<tr><td>3877.474</td></tr>\n",
       "</tbody>\n",
       "</table>\n"
      ],
      "text/latex": [
       "A infer: 1 × 1\n",
       "\\begin{tabular}{l}\n",
       " stat\\\\\n",
       " <dbl>\\\\\n",
       "\\hline\n",
       "\t 3877.474\\\\\n",
       "\\end{tabular}\n"
      ],
      "text/markdown": [
       "\n",
       "A infer: 1 × 1\n",
       "\n",
       "| stat &lt;dbl&gt; |\n",
       "|---|\n",
       "| 3877.474 |\n",
       "\n"
      ],
      "text/plain": [
       "  stat    \n",
       "1 3877.474"
      ]
     },
     "metadata": {},
     "output_type": "display_data"
    },
    {
     "data": {
      "image/png": "[encoded data removed]",
      "text/plain": [
       "plot without title"
      ]
     },
     "metadata": {
      "image/png": {
       "height": 420,
       "width": 420
      }
     },
     "output_type": "display_data"
    }
   ],
   "source": [
    "test2 <- neighbourhood_year_grouped %>%\n",
    "filter(NEIGHBOURHOOD == \"West End\")\n",
    "test2\n",
    "\n",
    "workflow <- test2 %>%\n",
    "specify(response = Count) %>%\n",
    "hypothesize(null = \"point\", mu =4000) %>%\n",
    "generate(reps = 1000) %>%\n",
    "calculate(stat = \"mean\") \n",
    "\n",
    "\n",
    "observed_mean <- neighbourhood_year_grouped %>%\n",
    "filter(NEIGHBOURHOOD == \"West End\") %>%\n",
    "    specify(response = Count)  %>%\n",
    "    calculate(stat = \"mean\")\n",
    "\n",
    "observed_mean\n",
    "\n",
    "max_flow_result_plot <- \n",
    "    workflow %>% \n",
    "    visualize(bins = 10) + \n",
    "    shade_p_value(obs_stat = observed_mean, direction = \"right\")+\n",
    "    theme(text = element_text(size = 22)) +\n",
    "    xlab(\"Mean\")\n",
    "\n",
    "max_flow_result_plot\n"
   ]
  },
  {
   "cell_type": "code",
   "execution_count": 37,
   "metadata": {},
   "outputs": [
    {
     "data": {
      "image/png": "[encoded data removed]",
      "text/plain": [
       "plot without title"
      ]
     },
     "metadata": {
      "image/png": {
       "height": 420,
       "width": 420
      }
     },
     "output_type": "display_data"
    }
   ],
   "source": [
    "\n",
    "workflow2 <-  westpoint_crime %>%\n",
    "specify(response = ViolentCrime, success = \"YES\") %>%\n",
    "hypothesize(null = \"point\", p = 0.5)%>%\n",
    "generate(type = \"draw\", reps = 1000) %>% \n",
    "calculate(stat = \"prop\") \n",
    "\n",
    "visualise(workflow2)"
   ]
  },
  {
   "cell_type": "markdown",
   "metadata": {},
   "source": [
    "## Methods:\n",
    "As mentioned, the goal of this project is to determine if population density and income level have an influence on the crime rate in areas of Vancouver, specifically West End and West Point Grey. A random sample, representative of the neighbourhoods, has been taken from each of the two filtered datasets. These samples were then subject to bootstrapping and asymptotics to retrieve the sample proportion and the sample mean of each neighbourhood. After the repeated sampling performed in the previous section, it is expected that 90% of the resulting confidence intervals have captured the true population parameters for both neighbourhoods. While the statistics provided can help estimate the true population parameter, further testing—such as hypothesis testing—may be done to determine whether the data from the samples are statistically significant. Moreover, other sampling techniques may be experimented with to discover the possibility of having a more representative sample.\n",
    "\n",
    "The hypothesis test that will be done in this project will utilise a 90% confidence level and the hypothesis that higher density areas where the annual income of people is low will tend to be more dangerous (more crime) than areas with low population density and higher annual incomes. The test statistics for this will be sample means and sample proportions. More specifically, the mean quantity of violent crimes and the proportion of violent crimes to the cumulative quantity of crimes in the neighbourhoods. \n",
    "\n",
    "With this report, hopefully, individuals will be able to gain a sense of the safety levels in different areas in Vancouver, especially those who are new to the city. Moreover, individuals who plan to stay in Vancouver for a long period of time may take these results as a factor into their consideration when deciding on which area of Vancouver to reside or work in. Furthermore, future questions that may arise from this project may include, although not limited to, the following:\n",
    "How did the 2019 novel coronavirus affect the relationship among the population density, income level, and crime rate in Vancouver?\n",
    "Which factor, whether population density or income level, has a stronger influence on the crime rate in Vancouver?\n"
   ]
  },
  {
   "cell_type": "code",
   "execution_count": null,
   "metadata": {},
   "outputs": [],
   "source": []
  }
 ],
 "metadata": {
  "kernelspec": {
   "display_name": "R",
   "language": "R",
   "name": "ir"
  },
  "language_info": {
   "codemirror_mode": "r",
   "file_extension": ".r",
   "mimetype": "text/x-r-source",
   "name": "R",
   "pygments_lexer": "r",
   "version": "4.1.2"
  },
  "orig_nbformat": 4
 },
 "nbformat": 4,
 "nbformat_minor": 2
}
